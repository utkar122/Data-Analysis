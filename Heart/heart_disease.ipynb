{
  "nbformat": 4,
  "nbformat_minor": 0,
  "metadata": {
    "colab": {
      "name": "heart_disease.ipynb",
      "provenance": []
    },
    "kernelspec": {
      "name": "python3",
      "display_name": "Python 3"
    }
  },
  "cells": [
    {
      "cell_type": "markdown",
      "metadata": {
        "id": "LU_O9EColZ6x"
      },
      "source": [
        "# Import Library"
      ]
    },
    {
      "cell_type": "code",
      "metadata": {
        "id": "3RbSA14fjXZT"
      },
      "source": [
        "import pandas as pd\r\n",
        "import numpy as np\r\n",
        "import matplotlib.pyplot as plt\r\n",
        "import seaborn as sns"
      ],
      "execution_count": 1,
      "outputs": []
    },
    {
      "cell_type": "code",
      "metadata": {
        "id": "OvoTxKQwlPc6"
      },
      "source": [
        "data = pd.read_csv(r'/content/heart.csv')"
      ],
      "execution_count": 2,
      "outputs": []
    },
    {
      "cell_type": "code",
      "metadata": {
        "colab": {
          "base_uri": "https://localhost:8080/",
          "height": 204
        },
        "id": "6Pa7NBqFlUEj",
        "outputId": "69cd7ff8-6e64-4303-8e5b-b339066e69dd"
      },
      "source": [
        "data.head()"
      ],
      "execution_count": 3,
      "outputs": [
        {
          "output_type": "execute_result",
          "data": {
            "text/html": [
              "<div>\n",
              "<style scoped>\n",
              "    .dataframe tbody tr th:only-of-type {\n",
              "        vertical-align: middle;\n",
              "    }\n",
              "\n",
              "    .dataframe tbody tr th {\n",
              "        vertical-align: top;\n",
              "    }\n",
              "\n",
              "    .dataframe thead th {\n",
              "        text-align: right;\n",
              "    }\n",
              "</style>\n",
              "<table border=\"1\" class=\"dataframe\">\n",
              "  <thead>\n",
              "    <tr style=\"text-align: right;\">\n",
              "      <th></th>\n",
              "      <th>age</th>\n",
              "      <th>sex</th>\n",
              "      <th>cp</th>\n",
              "      <th>trestbps</th>\n",
              "      <th>chol</th>\n",
              "      <th>fbs</th>\n",
              "      <th>restecg</th>\n",
              "      <th>thalach</th>\n",
              "      <th>exang</th>\n",
              "      <th>oldpeak</th>\n",
              "      <th>slope</th>\n",
              "      <th>ca</th>\n",
              "      <th>thal</th>\n",
              "      <th>target</th>\n",
              "    </tr>\n",
              "  </thead>\n",
              "  <tbody>\n",
              "    <tr>\n",
              "      <th>0</th>\n",
              "      <td>63</td>\n",
              "      <td>1</td>\n",
              "      <td>3</td>\n",
              "      <td>145</td>\n",
              "      <td>233</td>\n",
              "      <td>1</td>\n",
              "      <td>0</td>\n",
              "      <td>150</td>\n",
              "      <td>0</td>\n",
              "      <td>2.3</td>\n",
              "      <td>0</td>\n",
              "      <td>0</td>\n",
              "      <td>1</td>\n",
              "      <td>1</td>\n",
              "    </tr>\n",
              "    <tr>\n",
              "      <th>1</th>\n",
              "      <td>37</td>\n",
              "      <td>1</td>\n",
              "      <td>2</td>\n",
              "      <td>130</td>\n",
              "      <td>250</td>\n",
              "      <td>0</td>\n",
              "      <td>1</td>\n",
              "      <td>187</td>\n",
              "      <td>0</td>\n",
              "      <td>3.5</td>\n",
              "      <td>0</td>\n",
              "      <td>0</td>\n",
              "      <td>2</td>\n",
              "      <td>1</td>\n",
              "    </tr>\n",
              "    <tr>\n",
              "      <th>2</th>\n",
              "      <td>41</td>\n",
              "      <td>0</td>\n",
              "      <td>1</td>\n",
              "      <td>130</td>\n",
              "      <td>204</td>\n",
              "      <td>0</td>\n",
              "      <td>0</td>\n",
              "      <td>172</td>\n",
              "      <td>0</td>\n",
              "      <td>1.4</td>\n",
              "      <td>2</td>\n",
              "      <td>0</td>\n",
              "      <td>2</td>\n",
              "      <td>1</td>\n",
              "    </tr>\n",
              "    <tr>\n",
              "      <th>3</th>\n",
              "      <td>56</td>\n",
              "      <td>1</td>\n",
              "      <td>1</td>\n",
              "      <td>120</td>\n",
              "      <td>236</td>\n",
              "      <td>0</td>\n",
              "      <td>1</td>\n",
              "      <td>178</td>\n",
              "      <td>0</td>\n",
              "      <td>0.8</td>\n",
              "      <td>2</td>\n",
              "      <td>0</td>\n",
              "      <td>2</td>\n",
              "      <td>1</td>\n",
              "    </tr>\n",
              "    <tr>\n",
              "      <th>4</th>\n",
              "      <td>57</td>\n",
              "      <td>0</td>\n",
              "      <td>0</td>\n",
              "      <td>120</td>\n",
              "      <td>354</td>\n",
              "      <td>0</td>\n",
              "      <td>1</td>\n",
              "      <td>163</td>\n",
              "      <td>1</td>\n",
              "      <td>0.6</td>\n",
              "      <td>2</td>\n",
              "      <td>0</td>\n",
              "      <td>2</td>\n",
              "      <td>1</td>\n",
              "    </tr>\n",
              "  </tbody>\n",
              "</table>\n",
              "</div>"
            ],
            "text/plain": [
              "   age  sex  cp  trestbps  chol  fbs  ...  exang  oldpeak  slope  ca  thal  target\n",
              "0   63    1   3       145   233    1  ...      0      2.3      0   0     1       1\n",
              "1   37    1   2       130   250    0  ...      0      3.5      0   0     2       1\n",
              "2   41    0   1       130   204    0  ...      0      1.4      2   0     2       1\n",
              "3   56    1   1       120   236    0  ...      0      0.8      2   0     2       1\n",
              "4   57    0   0       120   354    0  ...      1      0.6      2   0     2       1\n",
              "\n",
              "[5 rows x 14 columns]"
            ]
          },
          "metadata": {
            "tags": []
          },
          "execution_count": 3
        }
      ]
    },
    {
      "cell_type": "code",
      "metadata": {
        "colab": {
          "base_uri": "https://localhost:8080/",
          "height": 317
        },
        "id": "EhunTXS-lhVI",
        "outputId": "24aee991-21a0-41b4-866d-ef4e5089bfb6"
      },
      "source": [
        "data.describe()"
      ],
      "execution_count": 4,
      "outputs": [
        {
          "output_type": "execute_result",
          "data": {
            "text/html": [
              "<div>\n",
              "<style scoped>\n",
              "    .dataframe tbody tr th:only-of-type {\n",
              "        vertical-align: middle;\n",
              "    }\n",
              "\n",
              "    .dataframe tbody tr th {\n",
              "        vertical-align: top;\n",
              "    }\n",
              "\n",
              "    .dataframe thead th {\n",
              "        text-align: right;\n",
              "    }\n",
              "</style>\n",
              "<table border=\"1\" class=\"dataframe\">\n",
              "  <thead>\n",
              "    <tr style=\"text-align: right;\">\n",
              "      <th></th>\n",
              "      <th>age</th>\n",
              "      <th>sex</th>\n",
              "      <th>cp</th>\n",
              "      <th>trestbps</th>\n",
              "      <th>chol</th>\n",
              "      <th>fbs</th>\n",
              "      <th>restecg</th>\n",
              "      <th>thalach</th>\n",
              "      <th>exang</th>\n",
              "      <th>oldpeak</th>\n",
              "      <th>slope</th>\n",
              "      <th>ca</th>\n",
              "      <th>thal</th>\n",
              "      <th>target</th>\n",
              "    </tr>\n",
              "  </thead>\n",
              "  <tbody>\n",
              "    <tr>\n",
              "      <th>count</th>\n",
              "      <td>303.000000</td>\n",
              "      <td>303.000000</td>\n",
              "      <td>303.000000</td>\n",
              "      <td>303.000000</td>\n",
              "      <td>303.000000</td>\n",
              "      <td>303.000000</td>\n",
              "      <td>303.000000</td>\n",
              "      <td>303.000000</td>\n",
              "      <td>303.000000</td>\n",
              "      <td>303.000000</td>\n",
              "      <td>303.000000</td>\n",
              "      <td>303.000000</td>\n",
              "      <td>303.000000</td>\n",
              "      <td>303.000000</td>\n",
              "    </tr>\n",
              "    <tr>\n",
              "      <th>mean</th>\n",
              "      <td>54.366337</td>\n",
              "      <td>0.683168</td>\n",
              "      <td>0.966997</td>\n",
              "      <td>131.623762</td>\n",
              "      <td>246.264026</td>\n",
              "      <td>0.148515</td>\n",
              "      <td>0.528053</td>\n",
              "      <td>149.646865</td>\n",
              "      <td>0.326733</td>\n",
              "      <td>1.039604</td>\n",
              "      <td>1.399340</td>\n",
              "      <td>0.729373</td>\n",
              "      <td>2.313531</td>\n",
              "      <td>0.544554</td>\n",
              "    </tr>\n",
              "    <tr>\n",
              "      <th>std</th>\n",
              "      <td>9.082101</td>\n",
              "      <td>0.466011</td>\n",
              "      <td>1.032052</td>\n",
              "      <td>17.538143</td>\n",
              "      <td>51.830751</td>\n",
              "      <td>0.356198</td>\n",
              "      <td>0.525860</td>\n",
              "      <td>22.905161</td>\n",
              "      <td>0.469794</td>\n",
              "      <td>1.161075</td>\n",
              "      <td>0.616226</td>\n",
              "      <td>1.022606</td>\n",
              "      <td>0.612277</td>\n",
              "      <td>0.498835</td>\n",
              "    </tr>\n",
              "    <tr>\n",
              "      <th>min</th>\n",
              "      <td>29.000000</td>\n",
              "      <td>0.000000</td>\n",
              "      <td>0.000000</td>\n",
              "      <td>94.000000</td>\n",
              "      <td>126.000000</td>\n",
              "      <td>0.000000</td>\n",
              "      <td>0.000000</td>\n",
              "      <td>71.000000</td>\n",
              "      <td>0.000000</td>\n",
              "      <td>0.000000</td>\n",
              "      <td>0.000000</td>\n",
              "      <td>0.000000</td>\n",
              "      <td>0.000000</td>\n",
              "      <td>0.000000</td>\n",
              "    </tr>\n",
              "    <tr>\n",
              "      <th>25%</th>\n",
              "      <td>47.500000</td>\n",
              "      <td>0.000000</td>\n",
              "      <td>0.000000</td>\n",
              "      <td>120.000000</td>\n",
              "      <td>211.000000</td>\n",
              "      <td>0.000000</td>\n",
              "      <td>0.000000</td>\n",
              "      <td>133.500000</td>\n",
              "      <td>0.000000</td>\n",
              "      <td>0.000000</td>\n",
              "      <td>1.000000</td>\n",
              "      <td>0.000000</td>\n",
              "      <td>2.000000</td>\n",
              "      <td>0.000000</td>\n",
              "    </tr>\n",
              "    <tr>\n",
              "      <th>50%</th>\n",
              "      <td>55.000000</td>\n",
              "      <td>1.000000</td>\n",
              "      <td>1.000000</td>\n",
              "      <td>130.000000</td>\n",
              "      <td>240.000000</td>\n",
              "      <td>0.000000</td>\n",
              "      <td>1.000000</td>\n",
              "      <td>153.000000</td>\n",
              "      <td>0.000000</td>\n",
              "      <td>0.800000</td>\n",
              "      <td>1.000000</td>\n",
              "      <td>0.000000</td>\n",
              "      <td>2.000000</td>\n",
              "      <td>1.000000</td>\n",
              "    </tr>\n",
              "    <tr>\n",
              "      <th>75%</th>\n",
              "      <td>61.000000</td>\n",
              "      <td>1.000000</td>\n",
              "      <td>2.000000</td>\n",
              "      <td>140.000000</td>\n",
              "      <td>274.500000</td>\n",
              "      <td>0.000000</td>\n",
              "      <td>1.000000</td>\n",
              "      <td>166.000000</td>\n",
              "      <td>1.000000</td>\n",
              "      <td>1.600000</td>\n",
              "      <td>2.000000</td>\n",
              "      <td>1.000000</td>\n",
              "      <td>3.000000</td>\n",
              "      <td>1.000000</td>\n",
              "    </tr>\n",
              "    <tr>\n",
              "      <th>max</th>\n",
              "      <td>77.000000</td>\n",
              "      <td>1.000000</td>\n",
              "      <td>3.000000</td>\n",
              "      <td>200.000000</td>\n",
              "      <td>564.000000</td>\n",
              "      <td>1.000000</td>\n",
              "      <td>2.000000</td>\n",
              "      <td>202.000000</td>\n",
              "      <td>1.000000</td>\n",
              "      <td>6.200000</td>\n",
              "      <td>2.000000</td>\n",
              "      <td>4.000000</td>\n",
              "      <td>3.000000</td>\n",
              "      <td>1.000000</td>\n",
              "    </tr>\n",
              "  </tbody>\n",
              "</table>\n",
              "</div>"
            ],
            "text/plain": [
              "              age         sex          cp  ...          ca        thal      target\n",
              "count  303.000000  303.000000  303.000000  ...  303.000000  303.000000  303.000000\n",
              "mean    54.366337    0.683168    0.966997  ...    0.729373    2.313531    0.544554\n",
              "std      9.082101    0.466011    1.032052  ...    1.022606    0.612277    0.498835\n",
              "min     29.000000    0.000000    0.000000  ...    0.000000    0.000000    0.000000\n",
              "25%     47.500000    0.000000    0.000000  ...    0.000000    2.000000    0.000000\n",
              "50%     55.000000    1.000000    1.000000  ...    0.000000    2.000000    1.000000\n",
              "75%     61.000000    1.000000    2.000000  ...    1.000000    3.000000    1.000000\n",
              "max     77.000000    1.000000    3.000000  ...    4.000000    3.000000    1.000000\n",
              "\n",
              "[8 rows x 14 columns]"
            ]
          },
          "metadata": {
            "tags": []
          },
          "execution_count": 4
        }
      ]
    },
    {
      "cell_type": "markdown",
      "metadata": {
        "id": "8EAtCHeIlsKF"
      },
      "source": [
        "# Check Missing Values"
      ]
    },
    {
      "cell_type": "code",
      "metadata": {
        "colab": {
          "base_uri": "https://localhost:8080/"
        },
        "id": "pTRqwCjalqSK",
        "outputId": "a409c33b-9190-4524-dfda-d5d6effa3af1"
      },
      "source": [
        "data.isnull().sum()/len(data)*100"
      ],
      "execution_count": 5,
      "outputs": [
        {
          "output_type": "execute_result",
          "data": {
            "text/plain": [
              "age         0.0\n",
              "sex         0.0\n",
              "cp          0.0\n",
              "trestbps    0.0\n",
              "chol        0.0\n",
              "fbs         0.0\n",
              "restecg     0.0\n",
              "thalach     0.0\n",
              "exang       0.0\n",
              "oldpeak     0.0\n",
              "slope       0.0\n",
              "ca          0.0\n",
              "thal        0.0\n",
              "target      0.0\n",
              "dtype: float64"
            ]
          },
          "metadata": {
            "tags": []
          },
          "execution_count": 5
        }
      ]
    },
    {
      "cell_type": "markdown",
      "metadata": {
        "id": "IemN7Tjvmtsd"
      },
      "source": [
        "# Removing Outliers"
      ]
    },
    {
      "cell_type": "code",
      "metadata": {
        "colab": {
          "base_uri": "https://localhost:8080/",
          "height": 1000
        },
        "id": "9YNBZNnjlpt4",
        "outputId": "53ed67b7-bf93-40ef-d4c2-2ff94aa2c9a1"
      },
      "source": [
        "for col in data.iloc[:, :-1].columns:\r\n",
        "    if data[col].dtype != object:\r\n",
        "        print(\"Feature: \", col)\r\n",
        "        sns.boxplot(data[col])\r\n",
        "        plt.show()\r\n",
        "        print(\"*\"*125)"
      ],
      "execution_count": 8,
      "outputs": [
        {
          "output_type": "stream",
          "text": [
            "Feature:  age\n"
          ],
          "name": "stdout"
        },
        {
          "output_type": "stream",
          "text": [
            "/usr/local/lib/python3.7/dist-packages/seaborn/_decorators.py:43: FutureWarning: Pass the following variable as a keyword arg: x. From version 0.12, the only valid positional argument will be `data`, and passing other arguments without an explicit keyword will result in an error or misinterpretation.\n",
            "  FutureWarning\n"
          ],
          "name": "stderr"
        },
        {
          "output_type": "display_data",
          "data": {
            "image/png": "[encoded data removed]",
            "text/plain": [
              "<Figure size 432x288 with 1 Axes>"
            ]
          },
          "metadata": {
            "tags": [],
            "needs_background": "light"
          }
        },
        {
          "output_type": "stream",
          "text": [
            "*****************************************************************************************************************************\n",
            "Feature:  sex\n"
          ],
          "name": "stdout"
        },
        {
          "output_type": "stream",
          "text": [
            "/usr/local/lib/python3.7/dist-packages/seaborn/_decorators.py:43: FutureWarning: Pass the following variable as a keyword arg: x. From version 0.12, the only valid positional argument will be `data`, and passing other arguments without an explicit keyword will result in an error or misinterpretation.\n",
            "  FutureWarning\n"
          ],
          "name": "stderr"
        },
        {
          "output_type": "display_data",
          "data": {
            "image/png": "[encoded data removed]",
            "text/plain": [
              "<Figure size 432x288 with 1 Axes>"
            ]
          },
          "metadata": {
            "tags": [],
            "needs_background": "light"
          }
        },
        {
          "output_type": "stream",
          "text": [
            "*****************************************************************************************************************************\n",
            "Feature:  cp\n"
          ],
          "name": "stdout"
        },
        {
          "output_type": "stream",
          "text": [
            "/usr/local/lib/python3.7/dist-packages/seaborn/_decorators.py:43: FutureWarning: Pass the following variable as a keyword arg: x. From version 0.12, the only valid positional argument will be `data`, and passing other arguments without an explicit keyword will result in an error or misinterpretation.\n",
            "  FutureWarning\n"
          ],
          "name": "stderr"
        },
        {
          "output_type": "display_data",
          "data": {
            "image/png": "[encoded data removed]",
            "text/plain": [
              "<Figure size 432x288 with 1 Axes>"
            ]
          },
          "metadata": {
            "tags": [],
            "needs_background": "light"
          }
        },
        {
          "output_type": "stream",
          "text": [
            "*****************************************************************************************************************************\n",
            "Feature:  trestbps\n"
          ],
          "name": "stdout"
        },
        {
          "output_type": "stream",
          "text": [
            "/usr/local/lib/python3.7/dist-packages/seaborn/_decorators.py:43: FutureWarning: Pass the following variable as a keyword arg: x. From version 0.12, the only valid positional argument will be `data`, and passing other arguments without an explicit keyword will result in an error or misinterpretation.\n",
            "  FutureWarning\n"
          ],
          "name": "stderr"
        },
        {
          "output_type": "display_data",
          "data": {
            "image/png": "[encoded data removed]",
            "text/plain": [
              "<Figure size 432x288 with 1 Axes>"
            ]
          },
          "metadata": {
            "tags": [],
            "needs_background": "light"
          }
        },
        {
          "output_type": "stream",
          "text": [
            "*****************************************************************************************************************************\n",
            "Feature:  chol\n"
          ],
          "name": "stdout"
        },
        {
          "output_type": "stream",
          "text": [
            "/usr/local/lib/python3.7/dist-packages/seaborn/_decorators.py:43: FutureWarning: Pass the following variable as a keyword arg: x. From version 0.12, the only valid positional argument will be `data`, and passing other arguments without an explicit keyword will result in an error or misinterpretation.\n",
            "  FutureWarning\n"
          ],
          "name": "stderr"
        },
        {
          "output_type": "display_data",
          "data": {
            "image/png": "[encoded data removed]",
            "text/plain": [
              "<Figure size 432x288 with 1 Axes>"
            ]
          },
          "metadata": {
            "tags": [],
            "needs_background": "light"
          }
        },
        {
          "output_type": "stream",
          "text": [
            "*****************************************************************************************************************************\n",
            "Feature:  fbs\n"
          ],
          "name": "stdout"
        },
        {
          "output_type": "stream",
          "text": [
            "/usr/local/lib/python3.7/dist-packages/seaborn/_decorators.py:43: FutureWarning: Pass the following variable as a keyword arg: x. From version 0.12, the only valid positional argument will be `data`, and passing other arguments without an explicit keyword will result in an error or misinterpretation.\n",
            "  FutureWarning\n"
          ],
          "name": "stderr"
        },
        {
          "output_type": "display_data",
          "data": {
            "image/png": "[encoded data removed]",
            "text/plain": [
              "<Figure size 432x288 with 1 Axes>"
            ]
          },
          "metadata": {
            "tags": [],
            "needs_background": "light"
          }
        },
        {
          "output_type": "stream",
          "text": [
            "*****************************************************************************************************************************\n",
            "Feature:  restecg\n"
          ],
          "name": "stdout"
        },
        {
          "output_type": "stream",
          "text": [
            "/usr/local/lib/python3.7/dist-packages/seaborn/_decorators.py:43: FutureWarning: Pass the following variable as a keyword arg: x. From version 0.12, the only valid positional argument will be `data`, and passing other arguments without an explicit keyword will result in an error or misinterpretation.\n",
            "  FutureWarning\n"
          ],
          "name": "stderr"
        },
        {
          "output_type": "display_data",
          "data": {
            "image/png": "[encoded data removed]",
            "text/plain": [
              "<Figure size 432x288 with 1 Axes>"
            ]
          },
          "metadata": {
            "tags": [],
            "needs_background": "light"
          }
        },
        {
          "output_type": "stream",
          "text": [
            "*****************************************************************************************************************************\n",
            "Feature:  thalach\n"
          ],
          "name": "stdout"
        },
        {
          "output_type": "stream",
          "text": [
            "/usr/local/lib/python3.7/dist-packages/seaborn/_decorators.py:43: FutureWarning: Pass the following variable as a keyword arg: x. From version 0.12, the only valid positional argument will be `data`, and passing other arguments without an explicit keyword will result in an error or misinterpretation.\n",
            "  FutureWarning\n"
          ],
          "name": "stderr"
        },
        {
          "output_type": "display_data",
          "data": {
            "image/png": "[encoded data removed]",
            "text/plain": [
              "<Figure size 432x288 with 1 Axes>"
            ]
          },
          "metadata": {
            "tags": [],
            "needs_background": "light"
          }
        },
        {
          "output_type": "stream",
          "text": [
            "*****************************************************************************************************************************\n",
            "Feature:  exang\n"
          ],
          "name": "stdout"
        },
        {
          "output_type": "stream",
          "text": [
            "/usr/local/lib/python3.7/dist-packages/seaborn/_decorators.py:43: FutureWarning: Pass the following variable as a keyword arg: x. From version 0.12, the only valid positional argument will be `data`, and passing other arguments without an explicit keyword will result in an error or misinterpretation.\n",
            "  FutureWarning\n"
          ],
          "name": "stderr"
        },
        {
          "output_type": "display_data",
          "data": {
            "image/png": "[encoded data removed]",
            "text/plain": [
              "<Figure size 432x288 with 1 Axes>"
            ]
          },
          "metadata": {
            "tags": [],
            "needs_background": "light"
          }
        },
        {
          "output_type": "stream",
          "text": [
            "*****************************************************************************************************************************\n",
            "Feature:  oldpeak\n"
          ],
          "name": "stdout"
        },
        {
          "output_type": "stream",
          "text": [
            "/usr/local/lib/python3.7/dist-packages/seaborn/_decorators.py:43: FutureWarning: Pass the following variable as a keyword arg: x. From version 0.12, the only valid positional argument will be `data`, and passing other arguments without an explicit keyword will result in an error or misinterpretation.\n",
            "  FutureWarning\n"
          ],
          "name": "stderr"
        },
        {
          "output_type": "display_data",
          "data": {
            "image/png": "[encoded data removed]",
            "text/plain": [
              "<Figure size 432x288 with 1 Axes>"
            ]
          },
          "metadata": {
            "tags": [],
            "needs_background": "light"
          }
        },
        {
          "output_type": "stream",
          "text": [
            "*****************************************************************************************************************************\n",
            "Feature:  slope\n"
          ],
          "name": "stdout"
        },
        {
          "output_type": "stream",
          "text": [
            "/usr/local/lib/python3.7/dist-packages/seaborn/_decorators.py:43: FutureWarning: Pass the following variable as a keyword arg: x. From version 0.12, the only valid positional argument will be `data`, and passing other arguments without an explicit keyword will result in an error or misinterpretation.\n",
            "  FutureWarning\n"
          ],
          "name": "stderr"
        },
        {
          "output_type": "display_data",
          "data": {
            "image/png": "[encoded data removed]",
            "text/plain": [
              "<Figure size 432x288 with 1 Axes>"
            ]
          },
          "metadata": {
            "tags": [],
            "needs_background": "light"
          }
        },
        {
          "output_type": "stream",
          "text": [
            "*****************************************************************************************************************************\n",
            "Feature:  ca\n"
          ],
          "name": "stdout"
        },
        {
          "output_type": "stream",
          "text": [
            "/usr/local/lib/python3.7/dist-packages/seaborn/_decorators.py:43: FutureWarning: Pass the following variable as a keyword arg: x. From version 0.12, the only valid positional argument will be `data`, and passing other arguments without an explicit keyword will result in an error or misinterpretation.\n",
            "  FutureWarning\n"
          ],
          "name": "stderr"
        },
        {
          "output_type": "display_data",
          "data": {
            "image/png": "[encoded data removed]",
            "text/plain": [
              "<Figure size 432x288 with 1 Axes>"
            ]
          },
          "metadata": {
            "tags": [],
            "needs_background": "light"
          }
        },
        {
          "output_type": "stream",
          "text": [
            "*****************************************************************************************************************************\n",
            "Feature:  thal\n"
          ],
          "name": "stdout"
        },
        {
          "output_type": "stream",
          "text": [
            "/usr/local/lib/python3.7/dist-packages/seaborn/_decorators.py:43: FutureWarning: Pass the following variable as a keyword arg: x. From version 0.12, the only valid positional argument will be `data`, and passing other arguments without an explicit keyword will result in an error or misinterpretation.\n",
            "  FutureWarning\n"
          ],
          "name": "stderr"
        },
        {
          "output_type": "display_data",
          "data": {
            "image/png": "[encoded data removed]",
            "text/plain": [
              "<Figure size 432x288 with 1 Axes>"
            ]
          },
          "metadata": {
            "tags": [],
            "needs_background": "light"
          }
        },
        {
          "output_type": "stream",
          "text": [
            "*****************************************************************************************************************************\n"
          ],
          "name": "stdout"
        }
      ]
    },
    {
      "cell_type": "code",
      "metadata": {
        "colab": {
          "base_uri": "https://localhost:8080/",
          "height": 1000
        },
        "id": "Y61mgnZdnFlz",
        "outputId": "15299a02-93b5-4c61-a8d2-30e7ba1caf06"
      },
      "source": [
        "for col in data.iloc[:, :-1].columns:\r\n",
        "    if data[col].dtype != object:\r\n",
        "        \r\n",
        "        q1, q3 = np.percentile(data[col], [25,75])\r\n",
        "        \r\n",
        "        iqr = q3-q1\r\n",
        "        lower_fence = q1 - (1.5 * iqr)\r\n",
        "        upper_fence = q3 + (1.5 * iqr)\r\n",
        "        \r\n",
        "        data[col] = data[col].apply(lambda x: upper_fence if x > upper_fence else lower_fence if x< lower_fence else x)\r\n",
        "        sns.boxplot(x = data[col], data= data, palette='rainbow', orient='h')\r\n",
        "        plt.show()\r\n",
        "        print('*'*100, '\\n'*2)"
      ],
      "execution_count": 9,
      "outputs": [
        {
          "output_type": "display_data",
          "data": {
            "image/png": "[encoded data removed]",
            "text/plain": [
              "<Figure size 432x288 with 1 Axes>"
            ]
          },
          "metadata": {
            "tags": [],
            "needs_background": "light"
          }
        },
        {
          "output_type": "stream",
          "text": [
            "**************************************************************************************************** \n",
            "\n",
            "\n"
          ],
          "name": "stdout"
        },
        {
          "output_type": "display_data",
          "data": {
            "image/png": "[encoded data removed]",
            "text/plain": [
              "<Figure size 432x288 with 1 Axes>"
            ]
          },
          "metadata": {
            "tags": [],
            "needs_background": "light"
          }
        },
        {
          "output_type": "stream",
          "text": [
            "**************************************************************************************************** \n",
            "\n",
            "\n"
          ],
          "name": "stdout"
        },
        {
          "output_type": "display_data",
          "data": {
            "image/png": "[encoded data removed]",
            "text/plain": [
              "<Figure size 432x288 with 1 Axes>"
            ]
          },
          "metadata": {
            "tags": [],
            "needs_background": "light"
          }
        },
        {
          "output_type": "stream",
          "text": [
            "**************************************************************************************************** \n",
            "\n",
            "\n"
          ],
          "name": "stdout"
        },
        {
          "output_type": "display_data",
          "data": {
            "image/png": "[encoded data removed]",
            "text/plain": [
              "<Figure size 432x288 with 1 Axes>"
            ]
          },
          "metadata": {
            "tags": [],
            "needs_background": "light"
          }
        },
        {
          "output_type": "stream",
          "text": [
            "**************************************************************************************************** \n",
            "\n",
            "\n"
          ],
          "name": "stdout"
        },
        {
          "output_type": "display_data",
          "data": {
            "image/png": "[encoded data removed]",
            "text/plain": [
              "<Figure size 432x288 with 1 Axes>"
            ]
          },
          "metadata": {
            "tags": [],
            "needs_background": "light"
          }
        },
        {
          "output_type": "stream",
          "text": [
            "**************************************************************************************************** \n",
            "\n",
            "\n"
          ],
          "name": "stdout"
        },
        {
          "output_type": "display_data",
          "data": {
            "image/png": "[encoded data removed]",
            "text/plain": [
              "<Figure size 432x288 with 1 Axes>"
            ]
          },
          "metadata": {
            "tags": [],
            "needs_background": "light"
          }
        },
        {
          "output_type": "stream",
          "text": [
            "**************************************************************************************************** \n",
            "\n",
            "\n"
          ],
          "name": "stdout"
        },
        {
          "output_type": "display_data",
          "data": {
            "image/png": "[encoded data removed]",
            "text/plain": [
              "<Figure size 432x288 with 1 Axes>"
            ]
          },
          "metadata": {
            "tags": [],
            "needs_background": "light"
          }
        },
        {
          "output_type": "stream",
          "text": [
            "**************************************************************************************************** \n",
            "\n",
            "\n"
          ],
          "name": "stdout"
        },
        {
          "output_type": "display_data",
          "data": {
            "image/png": "[encoded data removed]",
            "text/plain": [
              "<Figure size 432x288 with 1 Axes>"
            ]
          },
          "metadata": {
            "tags": [],
            "needs_background": "light"
          }
        },
        {
          "output_type": "stream",
          "text": [
            "**************************************************************************************************** \n",
            "\n",
            "\n"
          ],
          "name": "stdout"
        },
        {
          "output_type": "display_data",
          "data": {
            "image/png": "[encoded data removed]",
            "text/plain": [
              "<Figure size 432x288 with 1 Axes>"
            ]
          },
          "metadata": {
            "tags": [],
            "needs_background": "light"
          }
        },
        {
          "output_type": "stream",
          "text": [
            "**************************************************************************************************** \n",
            "\n",
            "\n"
          ],
          "name": "stdout"
        },
        {
          "output_type": "display_data",
          "data": {
            "image/png": "[encoded data removed]",
            "text/plain": [
              "<Figure size 432x288 with 1 Axes>"
            ]
          },
          "metadata": {
            "tags": [],
            "needs_background": "light"
          }
        },
        {
          "output_type": "stream",
          "text": [
            "**************************************************************************************************** \n",
            "\n",
            "\n"
          ],
          "name": "stdout"
        },
        {
          "output_type": "display_data",
          "data": {
            "image/png": "[encoded data removed]",
            "text/plain": [
              "<Figure size 432x288 with 1 Axes>"
            ]
          },
          "metadata": {
            "tags": [],
            "needs_background": "light"
          }
        },
        {
          "output_type": "stream",
          "text": [
            "**************************************************************************************************** \n",
            "\n",
            "\n"
          ],
          "name": "stdout"
        },
        {
          "output_type": "display_data",
          "data": {
            "image/png": "[encoded data removed]",
            "text/plain": [
              "<Figure size 432x288 with 1 Axes>"
            ]
          },
          "metadata": {
            "tags": [],
            "needs_background": "light"
          }
        },
        {
          "output_type": "stream",
          "text": [
            "**************************************************************************************************** \n",
            "\n",
            "\n"
          ],
          "name": "stdout"
        },
        {
          "output_type": "display_data",
          "data": {
            "image/png": "[encoded data removed]",
            "text/plain": [
              "<Figure size 432x288 with 1 Axes>"
            ]
          },
          "metadata": {
            "tags": [],
            "needs_background": "light"
          }
        },
        {
          "output_type": "stream",
          "text": [
            "**************************************************************************************************** \n",
            "\n",
            "\n"
          ],
          "name": "stdout"
        }
      ]
    },
    {
      "cell_type": "markdown",
      "metadata": {
        "id": "_8nXDc4poHff"
      },
      "source": [
        "# EDA"
      ]
    },
    {
      "cell_type": "code",
      "metadata": {
        "colab": {
          "base_uri": "https://localhost:8080/"
        },
        "id": "bG0u42uTnbDa",
        "outputId": "2194fa33-5640-41b5-b8fb-8653bd810c3d"
      },
      "source": [
        "data.target.value_counts()"
      ],
      "execution_count": 10,
      "outputs": [
        {
          "output_type": "execute_result",
          "data": {
            "text/plain": [
              "1    165\n",
              "0    138\n",
              "Name: target, dtype: int64"
            ]
          },
          "metadata": {
            "tags": []
          },
          "execution_count": 10
        }
      ]
    },
    {
      "cell_type": "code",
      "metadata": {
        "colab": {
          "base_uri": "https://localhost:8080/",
          "height": 825
        },
        "id": "8drMCiMkoPnK",
        "outputId": "c2c4786a-ebf5-4540-e438-67af62c20ebe"
      },
      "source": [
        "data.hist(figsize=(14,14))\r\n",
        "plt.show()"
      ],
      "execution_count": 11,
      "outputs": [
        {
          "output_type": "display_data",
          "data": {
            "image/png": "[encoded data removed]",
            "text/plain": [
              "<Figure size 1008x1008 with 16 Axes>"
            ]
          },
          "metadata": {
            "tags": [],
            "needs_background": "light"
          }
        }
      ]
    },
    {
      "cell_type": "code",
      "metadata": {
        "colab": {
          "base_uri": "https://localhost:8080/",
          "height": 401
        },
        "id": "pPPE2otqok89",
        "outputId": "740f82e9-9fc2-4d0d-c4d3-f2f63d5ed869"
      },
      "source": [
        "data.groupby(['sex', 'target']).size().unstack().plot(kind='bar', figsize=(12,6))"
      ],
      "execution_count": 13,
      "outputs": [
        {
          "output_type": "execute_result",
          "data": {
            "text/plain": [
              "<matplotlib.axes._subplots.AxesSubplot at 0x7f70d9733210>"
            ]
          },
          "metadata": {
            "tags": []
          },
          "execution_count": 13
        },
        {
          "output_type": "display_data",
          "data": {
            "image/png": "[encoded data removed]",
            "text/plain": [
              "<Figure size 864x432 with 1 Axes>"
            ]
          },
          "metadata": {
            "tags": [],
            "needs_background": "light"
          }
        }
      ]
    },
    {
      "cell_type": "code",
      "metadata": {
        "colab": {
          "base_uri": "https://localhost:8080/",
          "height": 401
        },
        "id": "rbp1NIZLpIgg",
        "outputId": "72fbf6c8-6912-46b3-918c-0a16283f4031"
      },
      "source": [
        "data.groupby(['cp', 'target']).size().unstack().plot(kind='bar', figsize=(12,6))"
      ],
      "execution_count": 14,
      "outputs": [
        {
          "output_type": "execute_result",
          "data": {
            "text/plain": [
              "<matplotlib.axes._subplots.AxesSubplot at 0x7f70d979ed10>"
            ]
          },
          "metadata": {
            "tags": []
          },
          "execution_count": 14
        },
        {
          "output_type": "display_data",
          "data": {
            "image/png": "[encoded data removed]",
            "text/plain": [
              "<Figure size 864x432 with 1 Axes>"
            ]
          },
          "metadata": {
            "tags": [],
            "needs_background": "light"
          }
        }
      ]
    },
    {
      "cell_type": "code",
      "metadata": {
        "colab": {
          "base_uri": "https://localhost:8080/",
          "height": 411
        },
        "id": "29oy1Bn7pPqM",
        "outputId": "8a252d9d-f31c-4373-afb2-f82770152e71"
      },
      "source": [
        "data.groupby(['fbs', 'target']).size().unstack().plot(kind='bar', figsize=(12,6))"
      ],
      "execution_count": 15,
      "outputs": [
        {
          "output_type": "execute_result",
          "data": {
            "text/plain": [
              "<matplotlib.axes._subplots.AxesSubplot at 0x7f70d9ce30d0>"
            ]
          },
          "metadata": {
            "tags": []
          },
          "execution_count": 15
        },
        {
          "output_type": "display_data",
          "data": {
            "image/png": "[encoded data removed]",
            "text/plain": [
              "<Figure size 864x432 with 1 Axes>"
            ]
          },
          "metadata": {
            "tags": [],
            "needs_background": "light"
          }
        }
      ]
    },
    {
      "cell_type": "code",
      "metadata": {
        "colab": {
          "base_uri": "https://localhost:8080/",
          "height": 403
        },
        "id": "A0YWh67GpUhj",
        "outputId": "91924e4f-2659-48f6-8876-e077ad5c53b5"
      },
      "source": [
        "data.groupby(['restecg', 'target']).size().unstack().plot(kind='bar', figsize=(12,6))"
      ],
      "execution_count": 16,
      "outputs": [
        {
          "output_type": "execute_result",
          "data": {
            "text/plain": [
              "<matplotlib.axes._subplots.AxesSubplot at 0x7f70da44e8d0>"
            ]
          },
          "metadata": {
            "tags": []
          },
          "execution_count": 16
        },
        {
          "output_type": "display_data",
          "data": {
            "image/png": "[encoded data removed]",
            "text/plain": [
              "<Figure size 864x432 with 1 Axes>"
            ]
          },
          "metadata": {
            "tags": [],
            "needs_background": "light"
          }
        }
      ]
    },
    {
      "cell_type": "code",
      "metadata": {
        "colab": {
          "base_uri": "https://localhost:8080/",
          "height": 401
        },
        "id": "CZZti16-palX",
        "outputId": "f8639ebe-bf42-444b-8cbb-d0d80c7a6572"
      },
      "source": [
        "data.groupby(['exang', 'target']).size().unstack().plot(kind='bar', figsize=(12,6))"
      ],
      "execution_count": 17,
      "outputs": [
        {
          "output_type": "execute_result",
          "data": {
            "text/plain": [
              "<matplotlib.axes._subplots.AxesSubplot at 0x7f70da464790>"
            ]
          },
          "metadata": {
            "tags": []
          },
          "execution_count": 17
        },
        {
          "output_type": "display_data",
          "data": {
            "image/png": "[encoded data removed]",
            "text/plain": [
              "<Figure size 864x432 with 1 Axes>"
            ]
          },
          "metadata": {
            "tags": [],
            "needs_background": "light"
          }
        }
      ]
    },
    {
      "cell_type": "code",
      "metadata": {
        "colab": {
          "base_uri": "https://localhost:8080/",
          "height": 401
        },
        "id": "_duIzAnXplrL",
        "outputId": "7c52463b-20f9-4cfd-cd54-6ce3f6187b0e"
      },
      "source": [
        "data.groupby(['slope', 'target']).size().unstack().plot(kind='bar', figsize=(12,6))"
      ],
      "execution_count": 18,
      "outputs": [
        {
          "output_type": "execute_result",
          "data": {
            "text/plain": [
              "<matplotlib.axes._subplots.AxesSubplot at 0x7f70db5145d0>"
            ]
          },
          "metadata": {
            "tags": []
          },
          "execution_count": 18
        },
        {
          "output_type": "display_data",
          "data": {
            "image/png": "[encoded data removed]",
            "text/plain": [
              "<Figure size 864x432 with 1 Axes>"
            ]
          },
          "metadata": {
            "tags": [],
            "needs_background": "light"
          }
        }
      ]
    },
    {
      "cell_type": "code",
      "metadata": {
        "colab": {
          "base_uri": "https://localhost:8080/",
          "height": 411
        },
        "id": "VyhHtS8cpsD4",
        "outputId": "ffebf7a1-e250-423c-bdd5-933e7e5d536b"
      },
      "source": [
        "data.groupby(['ca', 'target']).size().unstack().plot(kind='bar', figsize=(12,6))"
      ],
      "execution_count": 19,
      "outputs": [
        {
          "output_type": "execute_result",
          "data": {
            "text/plain": [
              "<matplotlib.axes._subplots.AxesSubplot at 0x7f70d9f502d0>"
            ]
          },
          "metadata": {
            "tags": []
          },
          "execution_count": 19
        },
        {
          "output_type": "display_data",
          "data": {
            "image/png": "[encoded data removed]",
            "text/plain": [
              "<Figure size 864x432 with 1 Axes>"
            ]
          },
          "metadata": {
            "tags": [],
            "needs_background": "light"
          }
        }
      ]
    },
    {
      "cell_type": "code",
      "metadata": {
        "colab": {
          "base_uri": "https://localhost:8080/",
          "height": 411
        },
        "id": "d19r3S1Zpyr2",
        "outputId": "1c54c9a7-5529-4099-b66d-0f67e81e58ea"
      },
      "source": [
        "data.groupby(['thal', 'target']).size().unstack().plot(kind='bar', figsize=(12,6))"
      ],
      "execution_count": 20,
      "outputs": [
        {
          "output_type": "execute_result",
          "data": {
            "text/plain": [
              "<matplotlib.axes._subplots.AxesSubplot at 0x7f70d9d6f690>"
            ]
          },
          "metadata": {
            "tags": []
          },
          "execution_count": 20
        },
        {
          "output_type": "display_data",
          "data": {
            "image/png": "[encoded data removed]",
            "text/plain": [
              "<Figure size 864x432 with 1 Axes>"
            ]
          },
          "metadata": {
            "tags": [],
            "needs_background": "light"
          }
        }
      ]
    },
    {
      "cell_type": "code",
      "metadata": {
        "colab": {
          "base_uri": "https://localhost:8080/",
          "height": 422
        },
        "id": "puI64Uahp3zL",
        "outputId": "e0914c33-db2d-4b3c-f249-d9880aafb4b9"
      },
      "source": [
        "corr = data.corr()\r\n",
        "corr.style.background_gradient(cmap = 'coolwarm')"
      ],
      "execution_count": 21,
      "outputs": [
        {
          "output_type": "stream",
          "text": [
            "/usr/local/lib/python3.7/dist-packages/pandas/io/formats/style.py:1126: RuntimeWarning: All-NaN slice encountered\n",
            "  smin = np.nanmin(s.to_numpy()) if vmin is None else vmin\n",
            "/usr/local/lib/python3.7/dist-packages/pandas/io/formats/style.py:1127: RuntimeWarning: All-NaN slice encountered\n",
            "  smax = np.nanmax(s.to_numpy()) if vmax is None else vmax\n"
          ],
          "name": "stderr"
        },
        {
          "output_type": "execute_result",
          "data": {
            "text/html": [
              "<style  type=\"text/css\" >\n",
              "#T_763185be_7ecb_11eb_816a_0242ac1c0002row0_col0,#T_763185be_7ecb_11eb_816a_0242ac1c0002row1_col1,#T_763185be_7ecb_11eb_816a_0242ac1c0002row2_col2,#T_763185be_7ecb_11eb_816a_0242ac1c0002row3_col3,#T_763185be_7ecb_11eb_816a_0242ac1c0002row4_col4,#T_763185be_7ecb_11eb_816a_0242ac1c0002row6_col6,#T_763185be_7ecb_11eb_816a_0242ac1c0002row7_col7,#T_763185be_7ecb_11eb_816a_0242ac1c0002row8_col8,#T_763185be_7ecb_11eb_816a_0242ac1c0002row9_col9,#T_763185be_7ecb_11eb_816a_0242ac1c0002row10_col10,#T_763185be_7ecb_11eb_816a_0242ac1c0002row11_col11,#T_763185be_7ecb_11eb_816a_0242ac1c0002row12_col12,#T_763185be_7ecb_11eb_816a_0242ac1c0002row13_col13{\n",
              "            background-color:  #b40426;\n",
              "            color:  #f1f1f1;\n",
              "        }#T_763185be_7ecb_11eb_816a_0242ac1c0002row0_col1,#T_763185be_7ecb_11eb_816a_0242ac1c0002row7_col9{\n",
              "            background-color:  #6788ee;\n",
              "            color:  #000000;\n",
              "        }#T_763185be_7ecb_11eb_816a_0242ac1c0002row0_col2,#T_763185be_7ecb_11eb_816a_0242ac1c0002row4_col13{\n",
              "            background-color:  #86a9fc;\n",
              "            color:  #000000;\n",
              "        }#T_763185be_7ecb_11eb_816a_0242ac1c0002row0_col3,#T_763185be_7ecb_11eb_816a_0242ac1c0002row0_col8,#T_763185be_7ecb_11eb_816a_0242ac1c0002row3_col11,#T_763185be_7ecb_11eb_816a_0242ac1c0002row4_col11{\n",
              "            background-color:  #b7cff9;\n",
              "            color:  #000000;\n",
              "        }#T_763185be_7ecb_11eb_816a_0242ac1c0002row0_col4,#T_763185be_7ecb_11eb_816a_0242ac1c0002row6_col9{\n",
              "            background-color:  #a7c5fe;\n",
              "            color:  #000000;\n",
              "        }#T_763185be_7ecb_11eb_816a_0242ac1c0002row0_col5,#T_763185be_7ecb_11eb_816a_0242ac1c0002row1_col5,#T_763185be_7ecb_11eb_816a_0242ac1c0002row2_col5,#T_763185be_7ecb_11eb_816a_0242ac1c0002row3_col5,#T_763185be_7ecb_11eb_816a_0242ac1c0002row4_col5,#T_763185be_7ecb_11eb_816a_0242ac1c0002row5_col0,#T_763185be_7ecb_11eb_816a_0242ac1c0002row5_col1,#T_763185be_7ecb_11eb_816a_0242ac1c0002row5_col2,#T_763185be_7ecb_11eb_816a_0242ac1c0002row5_col3,#T_763185be_7ecb_11eb_816a_0242ac1c0002row5_col4,#T_763185be_7ecb_11eb_816a_0242ac1c0002row5_col5,#T_763185be_7ecb_11eb_816a_0242ac1c0002row5_col6,#T_763185be_7ecb_11eb_816a_0242ac1c0002row5_col7,#T_763185be_7ecb_11eb_816a_0242ac1c0002row5_col8,#T_763185be_7ecb_11eb_816a_0242ac1c0002row5_col9,#T_763185be_7ecb_11eb_816a_0242ac1c0002row5_col10,#T_763185be_7ecb_11eb_816a_0242ac1c0002row5_col11,#T_763185be_7ecb_11eb_816a_0242ac1c0002row5_col12,#T_763185be_7ecb_11eb_816a_0242ac1c0002row5_col13,#T_763185be_7ecb_11eb_816a_0242ac1c0002row6_col5,#T_763185be_7ecb_11eb_816a_0242ac1c0002row7_col5,#T_763185be_7ecb_11eb_816a_0242ac1c0002row8_col5,#T_763185be_7ecb_11eb_816a_0242ac1c0002row9_col5,#T_763185be_7ecb_11eb_816a_0242ac1c0002row10_col5,#T_763185be_7ecb_11eb_816a_0242ac1c0002row11_col5,#T_763185be_7ecb_11eb_816a_0242ac1c0002row12_col5,#T_763185be_7ecb_11eb_816a_0242ac1c0002row13_col5{\n",
              "            background-color:  #000000;\n",
              "            color:  #f1f1f1;\n",
              "        }#T_763185be_7ecb_11eb_816a_0242ac1c0002row0_col6,#T_763185be_7ecb_11eb_816a_0242ac1c0002row3_col6,#T_763185be_7ecb_11eb_816a_0242ac1c0002row10_col3{\n",
              "            background-color:  #4055c8;\n",
              "            color:  #f1f1f1;\n",
              "        }#T_763185be_7ecb_11eb_816a_0242ac1c0002row0_col7,#T_763185be_7ecb_11eb_816a_0242ac1c0002row1_col4,#T_763185be_7ecb_11eb_816a_0242ac1c0002row4_col6,#T_763185be_7ecb_11eb_816a_0242ac1c0002row7_col0,#T_763185be_7ecb_11eb_816a_0242ac1c0002row8_col2,#T_763185be_7ecb_11eb_816a_0242ac1c0002row8_col13,#T_763185be_7ecb_11eb_816a_0242ac1c0002row9_col10,#T_763185be_7ecb_11eb_816a_0242ac1c0002row9_col13,#T_763185be_7ecb_11eb_816a_0242ac1c0002row10_col9,#T_763185be_7ecb_11eb_816a_0242ac1c0002row11_col13,#T_763185be_7ecb_11eb_816a_0242ac1c0002row13_col1,#T_763185be_7ecb_11eb_816a_0242ac1c0002row13_col3,#T_763185be_7ecb_11eb_816a_0242ac1c0002row13_col8,#T_763185be_7ecb_11eb_816a_0242ac1c0002row13_col11,#T_763185be_7ecb_11eb_816a_0242ac1c0002row13_col12{\n",
              "            background-color:  #3b4cc0;\n",
              "            color:  #f1f1f1;\n",
              "        }#T_763185be_7ecb_11eb_816a_0242ac1c0002row0_col9{\n",
              "            background-color:  #dddcdc;\n",
              "            color:  #000000;\n",
              "        }#T_763185be_7ecb_11eb_816a_0242ac1c0002row0_col10,#T_763185be_7ecb_11eb_816a_0242ac1c0002row1_col7,#T_763185be_7ecb_11eb_816a_0242ac1c0002row6_col8{\n",
              "            background-color:  #8fb1fe;\n",
              "            color:  #000000;\n",
              "        }#T_763185be_7ecb_11eb_816a_0242ac1c0002row0_col11{\n",
              "            background-color:  #e4d9d2;\n",
              "            color:  #000000;\n",
              "        }#T_763185be_7ecb_11eb_816a_0242ac1c0002row0_col12,#T_763185be_7ecb_11eb_816a_0242ac1c0002row11_col10{\n",
              "            background-color:  #a2c1ff;\n",
              "            color:  #000000;\n",
              "        }#T_763185be_7ecb_11eb_816a_0242ac1c0002row0_col13{\n",
              "            background-color:  #688aef;\n",
              "            color:  #000000;\n",
              "        }#T_763185be_7ecb_11eb_816a_0242ac1c0002row1_col0{\n",
              "            background-color:  #80a3fa;\n",
              "            color:  #000000;\n",
              "        }#T_763185be_7ecb_11eb_816a_0242ac1c0002row1_col2,#T_763185be_7ecb_11eb_816a_0242ac1c0002row3_col7{\n",
              "            background-color:  #8caffe;\n",
              "            color:  #000000;\n",
              "        }#T_763185be_7ecb_11eb_816a_0242ac1c0002row1_col3,#T_763185be_7ecb_11eb_816a_0242ac1c0002row4_col1{\n",
              "            background-color:  #536edd;\n",
              "            color:  #000000;\n",
              "        }#T_763185be_7ecb_11eb_816a_0242ac1c0002row1_col6,#T_763185be_7ecb_11eb_816a_0242ac1c0002row2_col4{\n",
              "            background-color:  #506bda;\n",
              "            color:  #000000;\n",
              "        }#T_763185be_7ecb_11eb_816a_0242ac1c0002row1_col8{\n",
              "            background-color:  #c1d4f4;\n",
              "            color:  #000000;\n",
              "        }#T_763185be_7ecb_11eb_816a_0242ac1c0002row1_col9,#T_763185be_7ecb_11eb_816a_0242ac1c0002row4_col0{\n",
              "            background-color:  #cad8ef;\n",
              "            color:  #000000;\n",
              "        }#T_763185be_7ecb_11eb_816a_0242ac1c0002row1_col10{\n",
              "            background-color:  #aec9fc;\n",
              "            color:  #000000;\n",
              "        }#T_763185be_7ecb_11eb_816a_0242ac1c0002row1_col11{\n",
              "            background-color:  #bad0f8;\n",
              "            color:  #000000;\n",
              "        }#T_763185be_7ecb_11eb_816a_0242ac1c0002row1_col12,#T_763185be_7ecb_11eb_816a_0242ac1c0002row8_col12,#T_763185be_7ecb_11eb_816a_0242ac1c0002row9_col12,#T_763185be_7ecb_11eb_816a_0242ac1c0002row12_col11{\n",
              "            background-color:  #c5d6f2;\n",
              "            color:  #000000;\n",
              "        }#T_763185be_7ecb_11eb_816a_0242ac1c0002row1_col13{\n",
              "            background-color:  #5b7ae5;\n",
              "            color:  #000000;\n",
              "        }#T_763185be_7ecb_11eb_816a_0242ac1c0002row2_col0,#T_763185be_7ecb_11eb_816a_0242ac1c0002row11_col4{\n",
              "            background-color:  #88abfd;\n",
              "            color:  #000000;\n",
              "        }#T_763185be_7ecb_11eb_816a_0242ac1c0002row2_col1,#T_763185be_7ecb_11eb_816a_0242ac1c0002row3_col1,#T_763185be_7ecb_11eb_816a_0242ac1c0002row7_col12,#T_763185be_7ecb_11eb_816a_0242ac1c0002row10_col12{\n",
              "            background-color:  #7597f6;\n",
              "            color:  #000000;\n",
              "        }#T_763185be_7ecb_11eb_816a_0242ac1c0002row2_col3,#T_763185be_7ecb_11eb_816a_0242ac1c0002row8_col3{\n",
              "            background-color:  #7093f3;\n",
              "            color:  #000000;\n",
              "        }#T_763185be_7ecb_11eb_816a_0242ac1c0002row2_col6,#T_763185be_7ecb_11eb_816a_0242ac1c0002row2_col11,#T_763185be_7ecb_11eb_816a_0242ac1c0002row7_col6{\n",
              "            background-color:  #6e90f2;\n",
              "            color:  #000000;\n",
              "        }#T_763185be_7ecb_11eb_816a_0242ac1c0002row2_col7,#T_763185be_7ecb_11eb_816a_0242ac1c0002row12_col9{\n",
              "            background-color:  #dcdddd;\n",
              "            color:  #000000;\n",
              "        }#T_763185be_7ecb_11eb_816a_0242ac1c0002row2_col8{\n",
              "            background-color:  #4358cb;\n",
              "            color:  #f1f1f1;\n",
              "        }#T_763185be_7ecb_11eb_816a_0242ac1c0002row2_col9,#T_763185be_7ecb_11eb_816a_0242ac1c0002row4_col7{\n",
              "            background-color:  #94b6ff;\n",
              "            color:  #000000;\n",
              "        }#T_763185be_7ecb_11eb_816a_0242ac1c0002row2_col10{\n",
              "            background-color:  #ccd9ed;\n",
              "            color:  #000000;\n",
              "        }#T_763185be_7ecb_11eb_816a_0242ac1c0002row2_col12,#T_763185be_7ecb_11eb_816a_0242ac1c0002row7_col11{\n",
              "            background-color:  #6687ed;\n",
              "            color:  #000000;\n",
              "        }#T_763185be_7ecb_11eb_816a_0242ac1c0002row2_col13{\n",
              "            background-color:  #f2c9b4;\n",
              "            color:  #000000;\n",
              "        }#T_763185be_7ecb_11eb_816a_0242ac1c0002row3_col0{\n",
              "            background-color:  #dadce0;\n",
              "            color:  #000000;\n",
              "        }#T_763185be_7ecb_11eb_816a_0242ac1c0002row3_col2,#T_763185be_7ecb_11eb_816a_0242ac1c0002row4_col12{\n",
              "            background-color:  #a6c4fe;\n",
              "            color:  #000000;\n",
              "        }#T_763185be_7ecb_11eb_816a_0242ac1c0002row3_col4{\n",
              "            background-color:  #93b5fe;\n",
              "            color:  #000000;\n",
              "        }#T_763185be_7ecb_11eb_816a_0242ac1c0002row3_col8{\n",
              "            background-color:  #adc9fd;\n",
              "            color:  #000000;\n",
              "        }#T_763185be_7ecb_11eb_816a_0242ac1c0002row3_col9,#T_763185be_7ecb_11eb_816a_0242ac1c0002row9_col11{\n",
              "            background-color:  #d7dce3;\n",
              "            color:  #000000;\n",
              "        }#T_763185be_7ecb_11eb_816a_0242ac1c0002row3_col10{\n",
              "            background-color:  #9bbcff;\n",
              "            color:  #000000;\n",
              "        }#T_763185be_7ecb_11eb_816a_0242ac1c0002row3_col12,#T_763185be_7ecb_11eb_816a_0242ac1c0002row12_col10{\n",
              "            background-color:  #9ebeff;\n",
              "            color:  #000000;\n",
              "        }#T_763185be_7ecb_11eb_816a_0242ac1c0002row3_col13,#T_763185be_7ecb_11eb_816a_0242ac1c0002row11_col3,#T_763185be_7ecb_11eb_816a_0242ac1c0002row12_col7{\n",
              "            background-color:  #7ea1fa;\n",
              "            color:  #000000;\n",
              "        }#T_763185be_7ecb_11eb_816a_0242ac1c0002row4_col2{\n",
              "            background-color:  #81a4fb;\n",
              "            color:  #000000;\n",
              "        }#T_763185be_7ecb_11eb_816a_0242ac1c0002row4_col3{\n",
              "            background-color:  #89acfd;\n",
              "            color:  #000000;\n",
              "        }#T_763185be_7ecb_11eb_816a_0242ac1c0002row4_col8{\n",
              "            background-color:  #b3cdfb;\n",
              "            color:  #000000;\n",
              "        }#T_763185be_7ecb_11eb_816a_0242ac1c0002row4_col9,#T_763185be_7ecb_11eb_816a_0242ac1c0002row6_col13,#T_763185be_7ecb_11eb_816a_0242ac1c0002row8_col11,#T_763185be_7ecb_11eb_816a_0242ac1c0002row11_col8{\n",
              "            background-color:  #c0d4f5;\n",
              "            color:  #000000;\n",
              "        }#T_763185be_7ecb_11eb_816a_0242ac1c0002row4_col10,#T_763185be_7ecb_11eb_816a_0242ac1c0002row10_col2{\n",
              "            background-color:  #b6cefa;\n",
              "            color:  #000000;\n",
              "        }#T_763185be_7ecb_11eb_816a_0242ac1c0002row6_col0,#T_763185be_7ecb_11eb_816a_0242ac1c0002row8_col10,#T_763185be_7ecb_11eb_816a_0242ac1c0002row9_col4{\n",
              "            background-color:  #7b9ff9;\n",
              "            color:  #000000;\n",
              "        }#T_763185be_7ecb_11eb_816a_0242ac1c0002row6_col1{\n",
              "            background-color:  #7295f4;\n",
              "            color:  #000000;\n",
              "        }#T_763185be_7ecb_11eb_816a_0242ac1c0002row6_col2{\n",
              "            background-color:  #a3c2fe;\n",
              "            color:  #000000;\n",
              "        }#T_763185be_7ecb_11eb_816a_0242ac1c0002row6_col3{\n",
              "            background-color:  #3f53c6;\n",
              "            color:  #f1f1f1;\n",
              "        }#T_763185be_7ecb_11eb_816a_0242ac1c0002row6_col4,#T_763185be_7ecb_11eb_816a_0242ac1c0002row9_col7{\n",
              "            background-color:  #445acc;\n",
              "            color:  #f1f1f1;\n",
              "        }#T_763185be_7ecb_11eb_816a_0242ac1c0002row6_col7{\n",
              "            background-color:  #a5c3fe;\n",
              "            color:  #000000;\n",
              "        }#T_763185be_7ecb_11eb_816a_0242ac1c0002row6_col10{\n",
              "            background-color:  #c7d7f0;\n",
              "            color:  #000000;\n",
              "        }#T_763185be_7ecb_11eb_816a_0242ac1c0002row6_col11,#T_763185be_7ecb_11eb_816a_0242ac1c0002row10_col11,#T_763185be_7ecb_11eb_816a_0242ac1c0002row13_col6{\n",
              "            background-color:  #8badfd;\n",
              "            color:  #000000;\n",
              "        }#T_763185be_7ecb_11eb_816a_0242ac1c0002row6_col12{\n",
              "            background-color:  #8db0fe;\n",
              "            color:  #000000;\n",
              "        }#T_763185be_7ecb_11eb_816a_0242ac1c0002row7_col1{\n",
              "            background-color:  #7699f6;\n",
              "            color:  #000000;\n",
              "        }#T_763185be_7ecb_11eb_816a_0242ac1c0002row7_col2{\n",
              "            background-color:  #dbdcde;\n",
              "            color:  #000000;\n",
              "        }#T_763185be_7ecb_11eb_816a_0242ac1c0002row7_col3{\n",
              "            background-color:  #516ddb;\n",
              "            color:  #000000;\n",
              "        }#T_763185be_7ecb_11eb_816a_0242ac1c0002row7_col4,#T_763185be_7ecb_11eb_816a_0242ac1c0002row11_col2{\n",
              "            background-color:  #6485ec;\n",
              "            color:  #000000;\n",
              "        }#T_763185be_7ecb_11eb_816a_0242ac1c0002row7_col8{\n",
              "            background-color:  #455cce;\n",
              "            color:  #f1f1f1;\n",
              "        }#T_763185be_7ecb_11eb_816a_0242ac1c0002row7_col10{\n",
              "            background-color:  #f3c8b2;\n",
              "            color:  #000000;\n",
              "        }#T_763185be_7ecb_11eb_816a_0242ac1c0002row7_col13{\n",
              "            background-color:  #f2cbb7;\n",
              "            color:  #000000;\n",
              "        }#T_763185be_7ecb_11eb_816a_0242ac1c0002row8_col0{\n",
              "            background-color:  #b1cbfc;\n",
              "            color:  #000000;\n",
              "        }#T_763185be_7ecb_11eb_816a_0242ac1c0002row8_col1{\n",
              "            background-color:  #a9c6fd;\n",
              "            color:  #000000;\n",
              "        }#T_763185be_7ecb_11eb_816a_0242ac1c0002row8_col4,#T_763185be_7ecb_11eb_816a_0242ac1c0002row12_col4{\n",
              "            background-color:  #84a7fc;\n",
              "            color:  #000000;\n",
              "        }#T_763185be_7ecb_11eb_816a_0242ac1c0002row8_col6,#T_763185be_7ecb_11eb_816a_0242ac1c0002row12_col13{\n",
              "            background-color:  #4c66d6;\n",
              "            color:  #000000;\n",
              "        }#T_763185be_7ecb_11eb_816a_0242ac1c0002row8_col7{\n",
              "            background-color:  #3d50c3;\n",
              "            color:  #f1f1f1;\n",
              "        }#T_763185be_7ecb_11eb_816a_0242ac1c0002row8_col9{\n",
              "            background-color:  #ead4c8;\n",
              "            color:  #000000;\n",
              "        }#T_763185be_7ecb_11eb_816a_0242ac1c0002row9_col0{\n",
              "            background-color:  #cbd8ee;\n",
              "            color:  #000000;\n",
              "        }#T_763185be_7ecb_11eb_816a_0242ac1c0002row9_col1,#T_763185be_7ecb_11eb_816a_0242ac1c0002row11_col1{\n",
              "            background-color:  #9fbfff;\n",
              "            color:  #000000;\n",
              "        }#T_763185be_7ecb_11eb_816a_0242ac1c0002row9_col2{\n",
              "            background-color:  #7396f5;\n",
              "            color:  #000000;\n",
              "        }#T_763185be_7ecb_11eb_816a_0242ac1c0002row9_col3{\n",
              "            background-color:  #97b8ff;\n",
              "            color:  #000000;\n",
              "        }#T_763185be_7ecb_11eb_816a_0242ac1c0002row9_col6{\n",
              "            background-color:  #4f69d9;\n",
              "            color:  #000000;\n",
              "        }#T_763185be_7ecb_11eb_816a_0242ac1c0002row9_col8{\n",
              "            background-color:  #e0dbd8;\n",
              "            color:  #000000;\n",
              "        }#T_763185be_7ecb_11eb_816a_0242ac1c0002row10_col0,#T_763185be_7ecb_11eb_816a_0242ac1c0002row12_col2,#T_763185be_7ecb_11eb_816a_0242ac1c0002row12_col3{\n",
              "            background-color:  #6f92f3;\n",
              "            color:  #000000;\n",
              "        }#T_763185be_7ecb_11eb_816a_0242ac1c0002row10_col1{\n",
              "            background-color:  #7a9df8;\n",
              "            color:  #000000;\n",
              "        }#T_763185be_7ecb_11eb_816a_0242ac1c0002row10_col4{\n",
              "            background-color:  #6c8ff1;\n",
              "            color:  #000000;\n",
              "        }#T_763185be_7ecb_11eb_816a_0242ac1c0002row10_col6{\n",
              "            background-color:  #7da0f9;\n",
              "            color:  #000000;\n",
              "        }#T_763185be_7ecb_11eb_816a_0242ac1c0002row10_col7{\n",
              "            background-color:  #ebd3c6;\n",
              "            color:  #000000;\n",
              "        }#T_763185be_7ecb_11eb_816a_0242ac1c0002row10_col8,#T_763185be_7ecb_11eb_816a_0242ac1c0002row13_col0{\n",
              "            background-color:  #6180e9;\n",
              "            color:  #000000;\n",
              "        }#T_763185be_7ecb_11eb_816a_0242ac1c0002row10_col13{\n",
              "            background-color:  #e8d6cc;\n",
              "            color:  #000000;\n",
              "        }#T_763185be_7ecb_11eb_816a_0242ac1c0002row11_col0{\n",
              "            background-color:  #e1dad6;\n",
              "            color:  #000000;\n",
              "        }#T_763185be_7ecb_11eb_816a_0242ac1c0002row11_col6{\n",
              "            background-color:  #485fd1;\n",
              "            color:  #f1f1f1;\n",
              "        }#T_763185be_7ecb_11eb_816a_0242ac1c0002row11_col7{\n",
              "            background-color:  #5e7de7;\n",
              "            color:  #000000;\n",
              "        }#T_763185be_7ecb_11eb_816a_0242ac1c0002row11_col9{\n",
              "            background-color:  #e3d9d3;\n",
              "            color:  #000000;\n",
              "        }#T_763185be_7ecb_11eb_816a_0242ac1c0002row11_col12{\n",
              "            background-color:  #b9d0f9;\n",
              "            color:  #000000;\n",
              "        }#T_763185be_7ecb_11eb_816a_0242ac1c0002row12_col0{\n",
              "            background-color:  #aac7fd;\n",
              "            color:  #000000;\n",
              "        }#T_763185be_7ecb_11eb_816a_0242ac1c0002row12_col1{\n",
              "            background-color:  #bbd1f8;\n",
              "            color:  #000000;\n",
              "        }#T_763185be_7ecb_11eb_816a_0242ac1c0002row12_col6{\n",
              "            background-color:  #5d7ce6;\n",
              "            color:  #000000;\n",
              "        }#T_763185be_7ecb_11eb_816a_0242ac1c0002row12_col8{\n",
              "            background-color:  #cfdaea;\n",
              "            color:  #000000;\n",
              "        }#T_763185be_7ecb_11eb_816a_0242ac1c0002row13_col2{\n",
              "            background-color:  #f1ccb8;\n",
              "            color:  #000000;\n",
              "        }#T_763185be_7ecb_11eb_816a_0242ac1c0002row13_col4{\n",
              "            background-color:  #4e68d8;\n",
              "            color:  #000000;\n",
              "        }#T_763185be_7ecb_11eb_816a_0242ac1c0002row13_col7{\n",
              "            background-color:  #f0cdbb;\n",
              "            color:  #000000;\n",
              "        }#T_763185be_7ecb_11eb_816a_0242ac1c0002row13_col9{\n",
              "            background-color:  #5572df;\n",
              "            color:  #000000;\n",
              "        }#T_763185be_7ecb_11eb_816a_0242ac1c0002row13_col10{\n",
              "            background-color:  #efcebd;\n",
              "            color:  #000000;\n",
              "        }</style><table id=\"T_763185be_7ecb_11eb_816a_0242ac1c0002\" ><thead>    <tr>        <th class=\"blank level0\" ></th>        <th class=\"col_heading level0 col0\" >age</th>        <th class=\"col_heading level0 col1\" >sex</th>        <th class=\"col_heading level0 col2\" >cp</th>        <th class=\"col_heading level0 col3\" >trestbps</th>        <th class=\"col_heading level0 col4\" >chol</th>        <th class=\"col_heading level0 col5\" >fbs</th>        <th class=\"col_heading level0 col6\" >restecg</th>        <th class=\"col_heading level0 col7\" >thalach</th>        <th class=\"col_heading level0 col8\" >exang</th>        <th class=\"col_heading level0 col9\" >oldpeak</th>        <th class=\"col_heading level0 col10\" >slope</th>        <th class=\"col_heading level0 col11\" >ca</th>        <th class=\"col_heading level0 col12\" >thal</th>        <th class=\"col_heading level0 col13\" >target</th>    </tr></thead><tbody>\n",
              "                <tr>\n",
              "                        <th id=\"T_763185be_7ecb_11eb_816a_0242ac1c0002level0_row0\" class=\"row_heading level0 row0\" >age</th>\n",
              "                        <td id=\"T_763185be_7ecb_11eb_816a_0242ac1c0002row0_col0\" class=\"data row0 col0\" >1.000000</td>\n",
              "                        <td id=\"T_763185be_7ecb_11eb_816a_0242ac1c0002row0_col1\" class=\"data row0 col1\" >-0.098447</td>\n",
              "                        <td id=\"T_763185be_7ecb_11eb_816a_0242ac1c0002row0_col2\" class=\"data row0 col2\" >-0.068653</td>\n",
              "                        <td id=\"T_763185be_7ecb_11eb_816a_0242ac1c0002row0_col3\" class=\"data row0 col3\" >0.286134</td>\n",
              "                        <td id=\"T_763185be_7ecb_11eb_816a_0242ac1c0002row0_col4\" class=\"data row0 col4\" >0.205856</td>\n",
              "                        <td id=\"T_763185be_7ecb_11eb_816a_0242ac1c0002row0_col5\" class=\"data row0 col5\" >nan</td>\n",
              "                        <td id=\"T_763185be_7ecb_11eb_816a_0242ac1c0002row0_col6\" class=\"data row0 col6\" >-0.116211</td>\n",
              "                        <td id=\"T_763185be_7ecb_11eb_816a_0242ac1c0002row0_col7\" class=\"data row0 col7\" >-0.398246</td>\n",
              "                        <td id=\"T_763185be_7ecb_11eb_816a_0242ac1c0002row0_col8\" class=\"data row0 col8\" >0.096801</td>\n",
              "                        <td id=\"T_763185be_7ecb_11eb_816a_0242ac1c0002row0_col9\" class=\"data row0 col9\" >0.213242</td>\n",
              "                        <td id=\"T_763185be_7ecb_11eb_816a_0242ac1c0002row0_col10\" class=\"data row0 col10\" >-0.168814</td>\n",
              "                        <td id=\"T_763185be_7ecb_11eb_816a_0242ac1c0002row0_col11\" class=\"data row0 col11\" >0.322934</td>\n",
              "                        <td id=\"T_763185be_7ecb_11eb_816a_0242ac1c0002row0_col12\" class=\"data row0 col12\" >0.068145</td>\n",
              "                        <td id=\"T_763185be_7ecb_11eb_816a_0242ac1c0002row0_col13\" class=\"data row0 col13\" >-0.225439</td>\n",
              "            </tr>\n",
              "            <tr>\n",
              "                        <th id=\"T_763185be_7ecb_11eb_816a_0242ac1c0002level0_row1\" class=\"row_heading level0 row1\" >sex</th>\n",
              "                        <td id=\"T_763185be_7ecb_11eb_816a_0242ac1c0002row1_col0\" class=\"data row1 col0\" >-0.098447</td>\n",
              "                        <td id=\"T_763185be_7ecb_11eb_816a_0242ac1c0002row1_col1\" class=\"data row1 col1\" >1.000000</td>\n",
              "                        <td id=\"T_763185be_7ecb_11eb_816a_0242ac1c0002row1_col2\" class=\"data row1 col2\" >-0.049353</td>\n",
              "                        <td id=\"T_763185be_7ecb_11eb_816a_0242ac1c0002row1_col3\" class=\"data row1 col3\" >-0.047594</td>\n",
              "                        <td id=\"T_763185be_7ecb_11eb_816a_0242ac1c0002row1_col4\" class=\"data row1 col4\" >-0.180779</td>\n",
              "                        <td id=\"T_763185be_7ecb_11eb_816a_0242ac1c0002row1_col5\" class=\"data row1 col5\" >nan</td>\n",
              "                        <td id=\"T_763185be_7ecb_11eb_816a_0242ac1c0002row1_col6\" class=\"data row1 col6\" >-0.058196</td>\n",
              "                        <td id=\"T_763185be_7ecb_11eb_816a_0242ac1c0002row1_col7\" class=\"data row1 col7\" >-0.042937</td>\n",
              "                        <td id=\"T_763185be_7ecb_11eb_816a_0242ac1c0002row1_col8\" class=\"data row1 col8\" >0.141664</td>\n",
              "                        <td id=\"T_763185be_7ecb_11eb_816a_0242ac1c0002row1_col9\" class=\"data row1 col9\" >0.105256</td>\n",
              "                        <td id=\"T_763185be_7ecb_11eb_816a_0242ac1c0002row1_col10\" class=\"data row1 col10\" >-0.030711</td>\n",
              "                        <td id=\"T_763185be_7ecb_11eb_816a_0242ac1c0002row1_col11\" class=\"data row1 col11\" >0.108181</td>\n",
              "                        <td id=\"T_763185be_7ecb_11eb_816a_0242ac1c0002row1_col12\" class=\"data row1 col12\" >0.211815</td>\n",
              "                        <td id=\"T_763185be_7ecb_11eb_816a_0242ac1c0002row1_col13\" class=\"data row1 col13\" >-0.280937</td>\n",
              "            </tr>\n",
              "            <tr>\n",
              "                        <th id=\"T_763185be_7ecb_11eb_816a_0242ac1c0002level0_row2\" class=\"row_heading level0 row2\" >cp</th>\n",
              "                        <td id=\"T_763185be_7ecb_11eb_816a_0242ac1c0002row2_col0\" class=\"data row2 col0\" >-0.068653</td>\n",
              "                        <td id=\"T_763185be_7ecb_11eb_816a_0242ac1c0002row2_col1\" class=\"data row2 col1\" >-0.049353</td>\n",
              "                        <td id=\"T_763185be_7ecb_11eb_816a_0242ac1c0002row2_col2\" class=\"data row2 col2\" >1.000000</td>\n",
              "                        <td id=\"T_763185be_7ecb_11eb_816a_0242ac1c0002row2_col3\" class=\"data row2 col3\" >0.056267</td>\n",
              "                        <td id=\"T_763185be_7ecb_11eb_816a_0242ac1c0002row2_col4\" class=\"data row2 col4\" >-0.094081</td>\n",
              "                        <td id=\"T_763185be_7ecb_11eb_816a_0242ac1c0002row2_col5\" class=\"data row2 col5\" >nan</td>\n",
              "                        <td id=\"T_763185be_7ecb_11eb_816a_0242ac1c0002row2_col6\" class=\"data row2 col6\" >0.044421</td>\n",
              "                        <td id=\"T_763185be_7ecb_11eb_816a_0242ac1c0002row2_col7\" class=\"data row2 col7\" >0.295748</td>\n",
              "                        <td id=\"T_763185be_7ecb_11eb_816a_0242ac1c0002row2_col8\" class=\"data row2 col8\" >-0.394280</td>\n",
              "                        <td id=\"T_763185be_7ecb_11eb_816a_0242ac1c0002row2_col9\" class=\"data row2 col9\" >-0.144957</td>\n",
              "                        <td id=\"T_763185be_7ecb_11eb_816a_0242ac1c0002row2_col10\" class=\"data row2 col10\" >0.119717</td>\n",
              "                        <td id=\"T_763185be_7ecb_11eb_816a_0242ac1c0002row2_col11\" class=\"data row2 col11\" >-0.205842</td>\n",
              "                        <td id=\"T_763185be_7ecb_11eb_816a_0242ac1c0002row2_col12\" class=\"data row2 col12\" >-0.164593</td>\n",
              "                        <td id=\"T_763185be_7ecb_11eb_816a_0242ac1c0002row2_col13\" class=\"data row2 col13\" >0.433798</td>\n",
              "            </tr>\n",
              "            <tr>\n",
              "                        <th id=\"T_763185be_7ecb_11eb_816a_0242ac1c0002level0_row3\" class=\"row_heading level0 row3\" >trestbps</th>\n",
              "                        <td id=\"T_763185be_7ecb_11eb_816a_0242ac1c0002row3_col0\" class=\"data row3 col0\" >0.286134</td>\n",
              "                        <td id=\"T_763185be_7ecb_11eb_816a_0242ac1c0002row3_col1\" class=\"data row3 col1\" >-0.047594</td>\n",
              "                        <td id=\"T_763185be_7ecb_11eb_816a_0242ac1c0002row3_col2\" class=\"data row3 col2\" >0.056267</td>\n",
              "                        <td id=\"T_763185be_7ecb_11eb_816a_0242ac1c0002row3_col3\" class=\"data row3 col3\" >1.000000</td>\n",
              "                        <td id=\"T_763185be_7ecb_11eb_816a_0242ac1c0002row3_col4\" class=\"data row3 col4\" >0.132934</td>\n",
              "                        <td id=\"T_763185be_7ecb_11eb_816a_0242ac1c0002row3_col5\" class=\"data row3 col5\" >nan</td>\n",
              "                        <td id=\"T_763185be_7ecb_11eb_816a_0242ac1c0002row3_col6\" class=\"data row3 col6\" >-0.116535</td>\n",
              "                        <td id=\"T_763185be_7ecb_11eb_816a_0242ac1c0002row3_col7\" class=\"data row3 col7\" >-0.053717</td>\n",
              "                        <td id=\"T_763185be_7ecb_11eb_816a_0242ac1c0002row3_col8\" class=\"data row3 col8\" >0.055354</td>\n",
              "                        <td id=\"T_763185be_7ecb_11eb_816a_0242ac1c0002row3_col9\" class=\"data row3 col9\" >0.180601</td>\n",
              "                        <td id=\"T_763185be_7ecb_11eb_816a_0242ac1c0002row3_col10\" class=\"data row3 col10\" >-0.113723</td>\n",
              "                        <td id=\"T_763185be_7ecb_11eb_816a_0242ac1c0002row3_col11\" class=\"data row3 col11\" >0.101281</td>\n",
              "                        <td id=\"T_763185be_7ecb_11eb_816a_0242ac1c0002row3_col12\" class=\"data row3 col12\" >0.050194</td>\n",
              "                        <td id=\"T_763185be_7ecb_11eb_816a_0242ac1c0002row3_col13\" class=\"data row3 col13\" >-0.138621</td>\n",
              "            </tr>\n",
              "            <tr>\n",
              "                        <th id=\"T_763185be_7ecb_11eb_816a_0242ac1c0002level0_row4\" class=\"row_heading level0 row4\" >chol</th>\n",
              "                        <td id=\"T_763185be_7ecb_11eb_816a_0242ac1c0002row4_col0\" class=\"data row4 col0\" >0.205856</td>\n",
              "                        <td id=\"T_763185be_7ecb_11eb_816a_0242ac1c0002row4_col1\" class=\"data row4 col1\" >-0.180779</td>\n",
              "                        <td id=\"T_763185be_7ecb_11eb_816a_0242ac1c0002row4_col2\" class=\"data row4 col2\" >-0.094081</td>\n",
              "                        <td id=\"T_763185be_7ecb_11eb_816a_0242ac1c0002row4_col3\" class=\"data row4 col3\" >0.132934</td>\n",
              "                        <td id=\"T_763185be_7ecb_11eb_816a_0242ac1c0002row4_col4\" class=\"data row4 col4\" >1.000000</td>\n",
              "                        <td id=\"T_763185be_7ecb_11eb_816a_0242ac1c0002row4_col5\" class=\"data row4 col5\" >nan</td>\n",
              "                        <td id=\"T_763185be_7ecb_11eb_816a_0242ac1c0002row4_col6\" class=\"data row4 col6\" >-0.140696</td>\n",
              "                        <td id=\"T_763185be_7ecb_11eb_816a_0242ac1c0002row4_col7\" class=\"data row4 col7\" >-0.019543</td>\n",
              "                        <td id=\"T_763185be_7ecb_11eb_816a_0242ac1c0002row4_col8\" class=\"data row4 col8\" >0.083809</td>\n",
              "                        <td id=\"T_763185be_7ecb_11eb_816a_0242ac1c0002row4_col9\" class=\"data row4 col9\" >0.057323</td>\n",
              "                        <td id=\"T_763185be_7ecb_11eb_816a_0242ac1c0002row4_col10\" class=\"data row4 col10\" >0.005704</td>\n",
              "                        <td id=\"T_763185be_7ecb_11eb_816a_0242ac1c0002row4_col11\" class=\"data row4 col11\" >0.097144</td>\n",
              "                        <td id=\"T_763185be_7ecb_11eb_816a_0242ac1c0002row4_col12\" class=\"data row4 col12\" >0.086704</td>\n",
              "                        <td id=\"T_763185be_7ecb_11eb_816a_0242ac1c0002row4_col13\" class=\"data row4 col13\" >-0.103987</td>\n",
              "            </tr>\n",
              "            <tr>\n",
              "                        <th id=\"T_763185be_7ecb_11eb_816a_0242ac1c0002level0_row5\" class=\"row_heading level0 row5\" >fbs</th>\n",
              "                        <td id=\"T_763185be_7ecb_11eb_816a_0242ac1c0002row5_col0\" class=\"data row5 col0\" >nan</td>\n",
              "                        <td id=\"T_763185be_7ecb_11eb_816a_0242ac1c0002row5_col1\" class=\"data row5 col1\" >nan</td>\n",
              "                        <td id=\"T_763185be_7ecb_11eb_816a_0242ac1c0002row5_col2\" class=\"data row5 col2\" >nan</td>\n",
              "                        <td id=\"T_763185be_7ecb_11eb_816a_0242ac1c0002row5_col3\" class=\"data row5 col3\" >nan</td>\n",
              "                        <td id=\"T_763185be_7ecb_11eb_816a_0242ac1c0002row5_col4\" class=\"data row5 col4\" >nan</td>\n",
              "                        <td id=\"T_763185be_7ecb_11eb_816a_0242ac1c0002row5_col5\" class=\"data row5 col5\" >nan</td>\n",
              "                        <td id=\"T_763185be_7ecb_11eb_816a_0242ac1c0002row5_col6\" class=\"data row5 col6\" >nan</td>\n",
              "                        <td id=\"T_763185be_7ecb_11eb_816a_0242ac1c0002row5_col7\" class=\"data row5 col7\" >nan</td>\n",
              "                        <td id=\"T_763185be_7ecb_11eb_816a_0242ac1c0002row5_col8\" class=\"data row5 col8\" >nan</td>\n",
              "                        <td id=\"T_763185be_7ecb_11eb_816a_0242ac1c0002row5_col9\" class=\"data row5 col9\" >nan</td>\n",
              "                        <td id=\"T_763185be_7ecb_11eb_816a_0242ac1c0002row5_col10\" class=\"data row5 col10\" >nan</td>\n",
              "                        <td id=\"T_763185be_7ecb_11eb_816a_0242ac1c0002row5_col11\" class=\"data row5 col11\" >nan</td>\n",
              "                        <td id=\"T_763185be_7ecb_11eb_816a_0242ac1c0002row5_col12\" class=\"data row5 col12\" >nan</td>\n",
              "                        <td id=\"T_763185be_7ecb_11eb_816a_0242ac1c0002row5_col13\" class=\"data row5 col13\" >nan</td>\n",
              "            </tr>\n",
              "            <tr>\n",
              "                        <th id=\"T_763185be_7ecb_11eb_816a_0242ac1c0002level0_row6\" class=\"row_heading level0 row6\" >restecg</th>\n",
              "                        <td id=\"T_763185be_7ecb_11eb_816a_0242ac1c0002row6_col0\" class=\"data row6 col0\" >-0.116211</td>\n",
              "                        <td id=\"T_763185be_7ecb_11eb_816a_0242ac1c0002row6_col1\" class=\"data row6 col1\" >-0.058196</td>\n",
              "                        <td id=\"T_763185be_7ecb_11eb_816a_0242ac1c0002row6_col2\" class=\"data row6 col2\" >0.044421</td>\n",
              "                        <td id=\"T_763185be_7ecb_11eb_816a_0242ac1c0002row6_col3\" class=\"data row6 col3\" >-0.116535</td>\n",
              "                        <td id=\"T_763185be_7ecb_11eb_816a_0242ac1c0002row6_col4\" class=\"data row6 col4\" >-0.140696</td>\n",
              "                        <td id=\"T_763185be_7ecb_11eb_816a_0242ac1c0002row6_col5\" class=\"data row6 col5\" >nan</td>\n",
              "                        <td id=\"T_763185be_7ecb_11eb_816a_0242ac1c0002row6_col6\" class=\"data row6 col6\" >1.000000</td>\n",
              "                        <td id=\"T_763185be_7ecb_11eb_816a_0242ac1c0002row6_col7\" class=\"data row6 col7\" >0.046196</td>\n",
              "                        <td id=\"T_763185be_7ecb_11eb_816a_0242ac1c0002row6_col8\" class=\"data row6 col8\" >-0.070733</td>\n",
              "                        <td id=\"T_763185be_7ecb_11eb_816a_0242ac1c0002row6_col9\" class=\"data row6 col9\" >-0.062437</td>\n",
              "                        <td id=\"T_763185be_7ecb_11eb_816a_0242ac1c0002row6_col10\" class=\"data row6 col10\" >0.093045</td>\n",
              "                        <td id=\"T_763185be_7ecb_11eb_816a_0242ac1c0002row6_col11\" class=\"data row6 col11\" >-0.088637</td>\n",
              "                        <td id=\"T_763185be_7ecb_11eb_816a_0242ac1c0002row6_col12\" class=\"data row6 col12\" >-0.012500</td>\n",
              "                        <td id=\"T_763185be_7ecb_11eb_816a_0242ac1c0002row6_col13\" class=\"data row6 col13\" >0.137230</td>\n",
              "            </tr>\n",
              "            <tr>\n",
              "                        <th id=\"T_763185be_7ecb_11eb_816a_0242ac1c0002level0_row7\" class=\"row_heading level0 row7\" >thalach</th>\n",
              "                        <td id=\"T_763185be_7ecb_11eb_816a_0242ac1c0002row7_col0\" class=\"data row7 col0\" >-0.398246</td>\n",
              "                        <td id=\"T_763185be_7ecb_11eb_816a_0242ac1c0002row7_col1\" class=\"data row7 col1\" >-0.042937</td>\n",
              "                        <td id=\"T_763185be_7ecb_11eb_816a_0242ac1c0002row7_col2\" class=\"data row7 col2\" >0.295748</td>\n",
              "                        <td id=\"T_763185be_7ecb_11eb_816a_0242ac1c0002row7_col3\" class=\"data row7 col3\" >-0.053717</td>\n",
              "                        <td id=\"T_763185be_7ecb_11eb_816a_0242ac1c0002row7_col4\" class=\"data row7 col4\" >-0.019543</td>\n",
              "                        <td id=\"T_763185be_7ecb_11eb_816a_0242ac1c0002row7_col5\" class=\"data row7 col5\" >nan</td>\n",
              "                        <td id=\"T_763185be_7ecb_11eb_816a_0242ac1c0002row7_col6\" class=\"data row7 col6\" >0.046196</td>\n",
              "                        <td id=\"T_763185be_7ecb_11eb_816a_0242ac1c0002row7_col7\" class=\"data row7 col7\" >1.000000</td>\n",
              "                        <td id=\"T_763185be_7ecb_11eb_816a_0242ac1c0002row7_col8\" class=\"data row7 col8\" >-0.382586</td>\n",
              "                        <td id=\"T_763185be_7ecb_11eb_816a_0242ac1c0002row7_col9\" class=\"data row7 col9\" >-0.351496</td>\n",
              "                        <td id=\"T_763185be_7ecb_11eb_816a_0242ac1c0002row7_col10\" class=\"data row7 col10\" >0.387921</td>\n",
              "                        <td id=\"T_763185be_7ecb_11eb_816a_0242ac1c0002row7_col11\" class=\"data row7 col11\" >-0.237810</td>\n",
              "                        <td id=\"T_763185be_7ecb_11eb_816a_0242ac1c0002row7_col12\" class=\"data row7 col12\" >-0.103345</td>\n",
              "                        <td id=\"T_763185be_7ecb_11eb_816a_0242ac1c0002row7_col13\" class=\"data row7 col13\" >0.422210</td>\n",
              "            </tr>\n",
              "            <tr>\n",
              "                        <th id=\"T_763185be_7ecb_11eb_816a_0242ac1c0002level0_row8\" class=\"row_heading level0 row8\" >exang</th>\n",
              "                        <td id=\"T_763185be_7ecb_11eb_816a_0242ac1c0002row8_col0\" class=\"data row8 col0\" >0.096801</td>\n",
              "                        <td id=\"T_763185be_7ecb_11eb_816a_0242ac1c0002row8_col1\" class=\"data row8 col1\" >0.141664</td>\n",
              "                        <td id=\"T_763185be_7ecb_11eb_816a_0242ac1c0002row8_col2\" class=\"data row8 col2\" >-0.394280</td>\n",
              "                        <td id=\"T_763185be_7ecb_11eb_816a_0242ac1c0002row8_col3\" class=\"data row8 col3\" >0.055354</td>\n",
              "                        <td id=\"T_763185be_7ecb_11eb_816a_0242ac1c0002row8_col4\" class=\"data row8 col4\" >0.083809</td>\n",
              "                        <td id=\"T_763185be_7ecb_11eb_816a_0242ac1c0002row8_col5\" class=\"data row8 col5\" >nan</td>\n",
              "                        <td id=\"T_763185be_7ecb_11eb_816a_0242ac1c0002row8_col6\" class=\"data row8 col6\" >-0.070733</td>\n",
              "                        <td id=\"T_763185be_7ecb_11eb_816a_0242ac1c0002row8_col7\" class=\"data row8 col7\" >-0.382586</td>\n",
              "                        <td id=\"T_763185be_7ecb_11eb_816a_0242ac1c0002row8_col8\" class=\"data row8 col8\" >1.000000</td>\n",
              "                        <td id=\"T_763185be_7ecb_11eb_816a_0242ac1c0002row8_col9\" class=\"data row8 col9\" >0.299565</td>\n",
              "                        <td id=\"T_763185be_7ecb_11eb_816a_0242ac1c0002row8_col10\" class=\"data row8 col10\" >-0.257748</td>\n",
              "                        <td id=\"T_763185be_7ecb_11eb_816a_0242ac1c0002row8_col11\" class=\"data row8 col11\" >0.139440</td>\n",
              "                        <td id=\"T_763185be_7ecb_11eb_816a_0242ac1c0002row8_col12\" class=\"data row8 col12\" >0.212664</td>\n",
              "                        <td id=\"T_763185be_7ecb_11eb_816a_0242ac1c0002row8_col13\" class=\"data row8 col13\" >-0.436757</td>\n",
              "            </tr>\n",
              "            <tr>\n",
              "                        <th id=\"T_763185be_7ecb_11eb_816a_0242ac1c0002level0_row9\" class=\"row_heading level0 row9\" >oldpeak</th>\n",
              "                        <td id=\"T_763185be_7ecb_11eb_816a_0242ac1c0002row9_col0\" class=\"data row9 col0\" >0.213242</td>\n",
              "                        <td id=\"T_763185be_7ecb_11eb_816a_0242ac1c0002row9_col1\" class=\"data row9 col1\" >0.105256</td>\n",
              "                        <td id=\"T_763185be_7ecb_11eb_816a_0242ac1c0002row9_col2\" class=\"data row9 col2\" >-0.144957</td>\n",
              "                        <td id=\"T_763185be_7ecb_11eb_816a_0242ac1c0002row9_col3\" class=\"data row9 col3\" >0.180601</td>\n",
              "                        <td id=\"T_763185be_7ecb_11eb_816a_0242ac1c0002row9_col4\" class=\"data row9 col4\" >0.057323</td>\n",
              "                        <td id=\"T_763185be_7ecb_11eb_816a_0242ac1c0002row9_col5\" class=\"data row9 col5\" >nan</td>\n",
              "                        <td id=\"T_763185be_7ecb_11eb_816a_0242ac1c0002row9_col6\" class=\"data row9 col6\" >-0.062437</td>\n",
              "                        <td id=\"T_763185be_7ecb_11eb_816a_0242ac1c0002row9_col7\" class=\"data row9 col7\" >-0.351496</td>\n",
              "                        <td id=\"T_763185be_7ecb_11eb_816a_0242ac1c0002row9_col8\" class=\"data row9 col8\" >0.299565</td>\n",
              "                        <td id=\"T_763185be_7ecb_11eb_816a_0242ac1c0002row9_col9\" class=\"data row9 col9\" >1.000000</td>\n",
              "                        <td id=\"T_763185be_7ecb_11eb_816a_0242ac1c0002row9_col10\" class=\"data row9 col10\" >-0.573853</td>\n",
              "                        <td id=\"T_763185be_7ecb_11eb_816a_0242ac1c0002row9_col11\" class=\"data row9 col11\" >0.251845</td>\n",
              "                        <td id=\"T_763185be_7ecb_11eb_816a_0242ac1c0002row9_col12\" class=\"data row9 col12\" >0.209713</td>\n",
              "                        <td id=\"T_763185be_7ecb_11eb_816a_0242ac1c0002row9_col13\" class=\"data row9 col13\" >-0.436680</td>\n",
              "            </tr>\n",
              "            <tr>\n",
              "                        <th id=\"T_763185be_7ecb_11eb_816a_0242ac1c0002level0_row10\" class=\"row_heading level0 row10\" >slope</th>\n",
              "                        <td id=\"T_763185be_7ecb_11eb_816a_0242ac1c0002row10_col0\" class=\"data row10 col0\" >-0.168814</td>\n",
              "                        <td id=\"T_763185be_7ecb_11eb_816a_0242ac1c0002row10_col1\" class=\"data row10 col1\" >-0.030711</td>\n",
              "                        <td id=\"T_763185be_7ecb_11eb_816a_0242ac1c0002row10_col2\" class=\"data row10 col2\" >0.119717</td>\n",
              "                        <td id=\"T_763185be_7ecb_11eb_816a_0242ac1c0002row10_col3\" class=\"data row10 col3\" >-0.113723</td>\n",
              "                        <td id=\"T_763185be_7ecb_11eb_816a_0242ac1c0002row10_col4\" class=\"data row10 col4\" >0.005704</td>\n",
              "                        <td id=\"T_763185be_7ecb_11eb_816a_0242ac1c0002row10_col5\" class=\"data row10 col5\" >nan</td>\n",
              "                        <td id=\"T_763185be_7ecb_11eb_816a_0242ac1c0002row10_col6\" class=\"data row10 col6\" >0.093045</td>\n",
              "                        <td id=\"T_763185be_7ecb_11eb_816a_0242ac1c0002row10_col7\" class=\"data row10 col7\" >0.387921</td>\n",
              "                        <td id=\"T_763185be_7ecb_11eb_816a_0242ac1c0002row10_col8\" class=\"data row10 col8\" >-0.257748</td>\n",
              "                        <td id=\"T_763185be_7ecb_11eb_816a_0242ac1c0002row10_col9\" class=\"data row10 col9\" >-0.573853</td>\n",
              "                        <td id=\"T_763185be_7ecb_11eb_816a_0242ac1c0002row10_col10\" class=\"data row10 col10\" >1.000000</td>\n",
              "                        <td id=\"T_763185be_7ecb_11eb_816a_0242ac1c0002row10_col11\" class=\"data row10 col11\" >-0.086609</td>\n",
              "                        <td id=\"T_763185be_7ecb_11eb_816a_0242ac1c0002row10_col12\" class=\"data row10 col12\" >-0.105829</td>\n",
              "                        <td id=\"T_763185be_7ecb_11eb_816a_0242ac1c0002row10_col13\" class=\"data row10 col13\" >0.345877</td>\n",
              "            </tr>\n",
              "            <tr>\n",
              "                        <th id=\"T_763185be_7ecb_11eb_816a_0242ac1c0002level0_row11\" class=\"row_heading level0 row11\" >ca</th>\n",
              "                        <td id=\"T_763185be_7ecb_11eb_816a_0242ac1c0002row11_col0\" class=\"data row11 col0\" >0.322934</td>\n",
              "                        <td id=\"T_763185be_7ecb_11eb_816a_0242ac1c0002row11_col1\" class=\"data row11 col1\" >0.108181</td>\n",
              "                        <td id=\"T_763185be_7ecb_11eb_816a_0242ac1c0002row11_col2\" class=\"data row11 col2\" >-0.205842</td>\n",
              "                        <td id=\"T_763185be_7ecb_11eb_816a_0242ac1c0002row11_col3\" class=\"data row11 col3\" >0.101281</td>\n",
              "                        <td id=\"T_763185be_7ecb_11eb_816a_0242ac1c0002row11_col4\" class=\"data row11 col4\" >0.097144</td>\n",
              "                        <td id=\"T_763185be_7ecb_11eb_816a_0242ac1c0002row11_col5\" class=\"data row11 col5\" >nan</td>\n",
              "                        <td id=\"T_763185be_7ecb_11eb_816a_0242ac1c0002row11_col6\" class=\"data row11 col6\" >-0.088637</td>\n",
              "                        <td id=\"T_763185be_7ecb_11eb_816a_0242ac1c0002row11_col7\" class=\"data row11 col7\" >-0.237810</td>\n",
              "                        <td id=\"T_763185be_7ecb_11eb_816a_0242ac1c0002row11_col8\" class=\"data row11 col8\" >0.139440</td>\n",
              "                        <td id=\"T_763185be_7ecb_11eb_816a_0242ac1c0002row11_col9\" class=\"data row11 col9\" >0.251845</td>\n",
              "                        <td id=\"T_763185be_7ecb_11eb_816a_0242ac1c0002row11_col10\" class=\"data row11 col10\" >-0.086609</td>\n",
              "                        <td id=\"T_763185be_7ecb_11eb_816a_0242ac1c0002row11_col11\" class=\"data row11 col11\" >1.000000</td>\n",
              "                        <td id=\"T_763185be_7ecb_11eb_816a_0242ac1c0002row11_col12\" class=\"data row11 col12\" >0.158890</td>\n",
              "                        <td id=\"T_763185be_7ecb_11eb_816a_0242ac1c0002row11_col13\" class=\"data row11 col13\" >-0.437369</td>\n",
              "            </tr>\n",
              "            <tr>\n",
              "                        <th id=\"T_763185be_7ecb_11eb_816a_0242ac1c0002level0_row12\" class=\"row_heading level0 row12\" >thal</th>\n",
              "                        <td id=\"T_763185be_7ecb_11eb_816a_0242ac1c0002row12_col0\" class=\"data row12 col0\" >0.068145</td>\n",
              "                        <td id=\"T_763185be_7ecb_11eb_816a_0242ac1c0002row12_col1\" class=\"data row12 col1\" >0.211815</td>\n",
              "                        <td id=\"T_763185be_7ecb_11eb_816a_0242ac1c0002row12_col2\" class=\"data row12 col2\" >-0.164593</td>\n",
              "                        <td id=\"T_763185be_7ecb_11eb_816a_0242ac1c0002row12_col3\" class=\"data row12 col3\" >0.050194</td>\n",
              "                        <td id=\"T_763185be_7ecb_11eb_816a_0242ac1c0002row12_col4\" class=\"data row12 col4\" >0.086704</td>\n",
              "                        <td id=\"T_763185be_7ecb_11eb_816a_0242ac1c0002row12_col5\" class=\"data row12 col5\" >nan</td>\n",
              "                        <td id=\"T_763185be_7ecb_11eb_816a_0242ac1c0002row12_col6\" class=\"data row12 col6\" >-0.012500</td>\n",
              "                        <td id=\"T_763185be_7ecb_11eb_816a_0242ac1c0002row12_col7\" class=\"data row12 col7\" >-0.103345</td>\n",
              "                        <td id=\"T_763185be_7ecb_11eb_816a_0242ac1c0002row12_col8\" class=\"data row12 col8\" >0.212664</td>\n",
              "                        <td id=\"T_763185be_7ecb_11eb_816a_0242ac1c0002row12_col9\" class=\"data row12 col9\" >0.209713</td>\n",
              "                        <td id=\"T_763185be_7ecb_11eb_816a_0242ac1c0002row12_col10\" class=\"data row12 col10\" >-0.105829</td>\n",
              "                        <td id=\"T_763185be_7ecb_11eb_816a_0242ac1c0002row12_col11\" class=\"data row12 col11\" >0.158890</td>\n",
              "                        <td id=\"T_763185be_7ecb_11eb_816a_0242ac1c0002row12_col12\" class=\"data row12 col12\" >1.000000</td>\n",
              "                        <td id=\"T_763185be_7ecb_11eb_816a_0242ac1c0002row12_col13\" class=\"data row12 col13\" >-0.350974</td>\n",
              "            </tr>\n",
              "            <tr>\n",
              "                        <th id=\"T_763185be_7ecb_11eb_816a_0242ac1c0002level0_row13\" class=\"row_heading level0 row13\" >target</th>\n",
              "                        <td id=\"T_763185be_7ecb_11eb_816a_0242ac1c0002row13_col0\" class=\"data row13 col0\" >-0.225439</td>\n",
              "                        <td id=\"T_763185be_7ecb_11eb_816a_0242ac1c0002row13_col1\" class=\"data row13 col1\" >-0.280937</td>\n",
              "                        <td id=\"T_763185be_7ecb_11eb_816a_0242ac1c0002row13_col2\" class=\"data row13 col2\" >0.433798</td>\n",
              "                        <td id=\"T_763185be_7ecb_11eb_816a_0242ac1c0002row13_col3\" class=\"data row13 col3\" >-0.138621</td>\n",
              "                        <td id=\"T_763185be_7ecb_11eb_816a_0242ac1c0002row13_col4\" class=\"data row13 col4\" >-0.103987</td>\n",
              "                        <td id=\"T_763185be_7ecb_11eb_816a_0242ac1c0002row13_col5\" class=\"data row13 col5\" >nan</td>\n",
              "                        <td id=\"T_763185be_7ecb_11eb_816a_0242ac1c0002row13_col6\" class=\"data row13 col6\" >0.137230</td>\n",
              "                        <td id=\"T_763185be_7ecb_11eb_816a_0242ac1c0002row13_col7\" class=\"data row13 col7\" >0.422210</td>\n",
              "                        <td id=\"T_763185be_7ecb_11eb_816a_0242ac1c0002row13_col8\" class=\"data row13 col8\" >-0.436757</td>\n",
              "                        <td id=\"T_763185be_7ecb_11eb_816a_0242ac1c0002row13_col9\" class=\"data row13 col9\" >-0.436680</td>\n",
              "                        <td id=\"T_763185be_7ecb_11eb_816a_0242ac1c0002row13_col10\" class=\"data row13 col10\" >0.345877</td>\n",
              "                        <td id=\"T_763185be_7ecb_11eb_816a_0242ac1c0002row13_col11\" class=\"data row13 col11\" >-0.437369</td>\n",
              "                        <td id=\"T_763185be_7ecb_11eb_816a_0242ac1c0002row13_col12\" class=\"data row13 col12\" >-0.350974</td>\n",
              "                        <td id=\"T_763185be_7ecb_11eb_816a_0242ac1c0002row13_col13\" class=\"data row13 col13\" >1.000000</td>\n",
              "            </tr>\n",
              "    </tbody></table>"
            ],
            "text/plain": [
              "<pandas.io.formats.style.Styler at 0x7f70d9dd4910>"
            ]
          },
          "metadata": {
            "tags": []
          },
          "execution_count": 21
        }
      ]
    },
    {
      "cell_type": "markdown",
      "metadata": {
        "id": "GAvO-weoqnQ8"
      },
      "source": [
        "# Split Target variable"
      ]
    },
    {
      "cell_type": "code",
      "metadata": {
        "id": "BiqJW8wGqmhn"
      },
      "source": [
        "X = data.drop('target', axis = 1)\r\n",
        "y = data['target']"
      ],
      "execution_count": 23,
      "outputs": []
    },
    {
      "cell_type": "markdown",
      "metadata": {
        "id": "2TYl-vz7rU2G"
      },
      "source": [
        "# Scaling"
      ]
    },
    {
      "cell_type": "code",
      "metadata": {
        "id": "Fp8sG3ylq23d"
      },
      "source": [
        "from sklearn.preprocessing import StandardScaler, MinMaxScaler\r\n",
        "min_max = MinMaxScaler()\r\n",
        "X = min_max.fit_transform(X)"
      ],
      "execution_count": 24,
      "outputs": []
    },
    {
      "cell_type": "markdown",
      "metadata": {
        "id": "_WadU366ro-O"
      },
      "source": [
        "# Train test Split"
      ]
    },
    {
      "cell_type": "code",
      "metadata": {
        "id": "I75fco-grl1U"
      },
      "source": [
        "from sklearn.model_selection import train_test_split\r\n",
        "X_train, X_test, y_train, y_test = train_test_split(X,\r\n",
        "                                                    y, \r\n",
        "                                                    test_size=0.2,\r\n",
        "                                                    random_state=101)"
      ],
      "execution_count": 26,
      "outputs": []
    },
    {
      "cell_type": "markdown",
      "metadata": {
        "id": "oXnRcw_3r826"
      },
      "source": [
        "# Logistic Regression"
      ]
    },
    {
      "cell_type": "code",
      "metadata": {
        "colab": {
          "base_uri": "https://localhost:8080/"
        },
        "id": "pjmZbDBJr7Xm",
        "outputId": "4205298c-c0c3-4b34-d8ef-cf4406de78aa"
      },
      "source": [
        "from sklearn.linear_model import LogisticRegression\r\n",
        "lr = LogisticRegression() \r\n",
        "lr.fit(X_train, y_train)"
      ],
      "execution_count": 27,
      "outputs": [
        {
          "output_type": "execute_result",
          "data": {
            "text/plain": [
              "LogisticRegression(C=1.0, class_weight=None, dual=False, fit_intercept=True,\n",
              "                   intercept_scaling=1, l1_ratio=None, max_iter=100,\n",
              "                   multi_class='auto', n_jobs=None, penalty='l2',\n",
              "                   random_state=None, solver='lbfgs', tol=0.0001, verbose=0,\n",
              "                   warm_start=False)"
            ]
          },
          "metadata": {
            "tags": []
          },
          "execution_count": 27
        }
      ]
    },
    {
      "cell_type": "code",
      "metadata": {
        "colab": {
          "base_uri": "https://localhost:8080/"
        },
        "id": "-J8mpg_GsWKb",
        "outputId": "bcf51eb2-5d4c-44df-e4d0-3affc25e8626"
      },
      "source": [
        "print(lr.coef_)"
      ],
      "execution_count": 28,
      "outputs": [
        {
          "output_type": "stream",
          "text": [
            "[[-0.39665189 -1.05569122  1.95756672 -0.77110804 -0.78972359  0.\n",
            "   0.41315887  1.07407946 -1.03984679 -1.22927635  1.15201884 -2.01241539\n",
            "  -1.55243339]]\n"
          ],
          "name": "stdout"
        }
      ]
    },
    {
      "cell_type": "code",
      "metadata": {
        "id": "YHAl_fJrslMC"
      },
      "source": [
        "lr_pred = lr.predict(X_test)"
      ],
      "execution_count": 29,
      "outputs": []
    },
    {
      "cell_type": "code",
      "metadata": {
        "colab": {
          "base_uri": "https://localhost:8080/"
        },
        "id": "Clq3LFTMss_M",
        "outputId": "a7c9324c-9f45-4076-845e-f41492abf053"
      },
      "source": [
        "from sklearn.metrics import accuracy_score, classification_report,confusion_matrix\r\n",
        "print('Accuracy_score Testing Data: ',round(accuracy_score(y_test, lr_pred)*100,2))\r\n",
        "print('\\n','Classification_report Testing data: ','\\n','\\n',classification_report(y_test, lr_pred))"
      ],
      "execution_count": 30,
      "outputs": [
        {
          "output_type": "stream",
          "text": [
            "Accuracy_score Testing Data:  81.97\n",
            "\n",
            " Classification_report Testing data:  \n",
            " \n",
            "               precision    recall  f1-score   support\n",
            "\n",
            "           0       0.92      0.71      0.80        31\n",
            "           1       0.76      0.93      0.84        30\n",
            "\n",
            "    accuracy                           0.82        61\n",
            "   macro avg       0.84      0.82      0.82        61\n",
            "weighted avg       0.84      0.82      0.82        61\n",
            "\n"
          ],
          "name": "stdout"
        }
      ]
    },
    {
      "cell_type": "code",
      "metadata": {
        "colab": {
          "base_uri": "https://localhost:8080/"
        },
        "id": "Gnzps8gStLIi",
        "outputId": "6786d885-6841-4c15-ce1f-d8044b4dd93c"
      },
      "source": [
        "confusion_matrix(y_test, lr_pred)"
      ],
      "execution_count": 31,
      "outputs": [
        {
          "output_type": "execute_result",
          "data": {
            "text/plain": [
              "array([[22,  9],\n",
              "       [ 2, 28]])"
            ]
          },
          "metadata": {
            "tags": []
          },
          "execution_count": 31
        }
      ]
    },
    {
      "cell_type": "markdown",
      "metadata": {
        "id": "KHqEcfcitOGQ"
      },
      "source": [
        "# Decision Tree"
      ]
    },
    {
      "cell_type": "code",
      "metadata": {
        "colab": {
          "base_uri": "https://localhost:8080/"
        },
        "id": "M5XWaH-OtNbI",
        "outputId": "00a2859c-d52e-48e7-e597-af84917c57cc"
      },
      "source": [
        "from sklearn.tree import DecisionTreeClassifier\r\n",
        "Dic=DecisionTreeClassifier()\r\n",
        "Dic.fit(X_train,y_train)"
      ],
      "execution_count": 32,
      "outputs": [
        {
          "output_type": "execute_result",
          "data": {
            "text/plain": [
              "DecisionTreeClassifier(ccp_alpha=0.0, class_weight=None, criterion='gini',\n",
              "                       max_depth=None, max_features=None, max_leaf_nodes=None,\n",
              "                       min_impurity_decrease=0.0, min_impurity_split=None,\n",
              "                       min_samples_leaf=1, min_samples_split=2,\n",
              "                       min_weight_fraction_leaf=0.0, presort='deprecated',\n",
              "                       random_state=None, splitter='best')"
            ]
          },
          "metadata": {
            "tags": []
          },
          "execution_count": 32
        }
      ]
    },
    {
      "cell_type": "code",
      "metadata": {
        "colab": {
          "base_uri": "https://localhost:8080/"
        },
        "id": "LwMmnuEttbVg",
        "outputId": "e7ef904b-51f3-46f1-909f-1b0361c0a877"
      },
      "source": [
        "DT=Dic.predict(X_test)\r\n",
        "accuracy_score(y_test,DT)*100"
      ],
      "execution_count": 33,
      "outputs": [
        {
          "output_type": "execute_result",
          "data": {
            "text/plain": [
              "80.32786885245902"
            ]
          },
          "metadata": {
            "tags": []
          },
          "execution_count": 33
        }
      ]
    },
    {
      "cell_type": "code",
      "metadata": {
        "colab": {
          "base_uri": "https://localhost:8080/"
        },
        "id": "qPjmC8bbtpcs",
        "outputId": "dc3ab934-0fc5-4083-de14-758644f0d8f2"
      },
      "source": [
        "print(\"Accuracy on training set: {:.3f}\".format(Dic.score(X_train, y_train)))\r\n",
        "print(\"Accuracy on test set: {:.3f}\".format(Dic.score(X_test, y_test)))"
      ],
      "execution_count": 34,
      "outputs": [
        {
          "output_type": "stream",
          "text": [
            "Accuracy on training set: 1.000\n",
            "Accuracy on test set: 0.803\n"
          ],
          "name": "stdout"
        }
      ]
    },
    {
      "cell_type": "code",
      "metadata": {
        "colab": {
          "base_uri": "https://localhost:8080/"
        },
        "id": "Z_-1Zpezt2Gt",
        "outputId": "6b2a1c33-900c-407e-e9c0-b7122ef9e07c"
      },
      "source": [
        "print('\\n','Classification_report Testing data: ','\\n','\\n',classification_report(y_test, DT))"
      ],
      "execution_count": 36,
      "outputs": [
        {
          "output_type": "stream",
          "text": [
            "\n",
            " Classification_report Testing data:  \n",
            " \n",
            "               precision    recall  f1-score   support\n",
            "\n",
            "           0       0.83      0.77      0.80        31\n",
            "           1       0.78      0.83      0.81        30\n",
            "\n",
            "    accuracy                           0.80        61\n",
            "   macro avg       0.80      0.80      0.80        61\n",
            "weighted avg       0.80      0.80      0.80        61\n",
            "\n"
          ],
          "name": "stdout"
        }
      ]
    },
    {
      "cell_type": "code",
      "metadata": {
        "colab": {
          "base_uri": "https://localhost:8080/"
        },
        "id": "t2uDdtrPuAAA",
        "outputId": "1968513b-f643-457f-a886-c3758bd07fc6"
      },
      "source": [
        "confusion_matrix(y_test, DT)"
      ],
      "execution_count": 37,
      "outputs": [
        {
          "output_type": "execute_result",
          "data": {
            "text/plain": [
              "array([[24,  7],\n",
              "       [ 5, 25]])"
            ]
          },
          "metadata": {
            "tags": []
          },
          "execution_count": 37
        }
      ]
    },
    {
      "cell_type": "markdown",
      "metadata": {
        "id": "JOWSVxeWuUTj"
      },
      "source": [
        "# KNN"
      ]
    },
    {
      "cell_type": "code",
      "metadata": {
        "id": "enFQk5KguHpP"
      },
      "source": [
        "from sklearn.neighbors import KNeighborsClassifier"
      ],
      "execution_count": 38,
      "outputs": []
    },
    {
      "cell_type": "code",
      "metadata": {
        "colab": {
          "base_uri": "https://localhost:8080/"
        },
        "id": "Y9jSJODNuXWH",
        "outputId": "c14e81aa-b41a-49b8-e3a4-2b5be1370845"
      },
      "source": [
        "k_range=range(1,26)\r\n",
        "scores={}\r\n",
        "h_score = 0       \r\n",
        "best_k=0          \r\n",
        "scores_list=[]  \r\n",
        "\r\n",
        "for k in k_range:\r\n",
        "    knn=KNeighborsClassifier(n_neighbors=k)\r\n",
        "    knn.fit(X_train,y_train)\r\n",
        "    knn_pred=knn.predict(X_test)\r\n",
        "    scores[k]=accuracy_score(y_test,knn_pred)\r\n",
        "    if scores[k]>h_score:\r\n",
        "        h_score = scores[k]\r\n",
        "        best_k = k\r\n",
        "\r\n",
        "    scores_list.append(accuracy_score(y_test,knn_pred))\r\n",
        "print('The best value of k is {} with score : {}'.format(best_k,h_score))"
      ],
      "execution_count": 39,
      "outputs": [
        {
          "output_type": "stream",
          "text": [
            "The best value of k is 24 with score : 0.8524590163934426\n"
          ],
          "name": "stdout"
        }
      ]
    },
    {
      "cell_type": "code",
      "metadata": {
        "colab": {
          "base_uri": "https://localhost:8080/"
        },
        "id": "l17XPlQVus3Z",
        "outputId": "478edd2e-222d-4d59-f6e9-31cefa2364b6"
      },
      "source": [
        "knn=KNeighborsClassifier(n_neighbors=best_k)\r\n",
        "knn.fit(X_train,y_train)"
      ],
      "execution_count": 40,
      "outputs": [
        {
          "output_type": "execute_result",
          "data": {
            "text/plain": [
              "KNeighborsClassifier(algorithm='auto', leaf_size=30, metric='minkowski',\n",
              "                     metric_params=None, n_jobs=None, n_neighbors=24, p=2,\n",
              "                     weights='uniform')"
            ]
          },
          "metadata": {
            "tags": []
          },
          "execution_count": 40
        }
      ]
    },
    {
      "cell_type": "code",
      "metadata": {
        "colab": {
          "base_uri": "https://localhost:8080/"
        },
        "id": "egdj4u_uuzZN",
        "outputId": "8fd00784-8035-4d1a-c5da-fb65df781391"
      },
      "source": [
        "from sklearn.metrics import accuracy_score,mean_squared_error\r\n",
        "knn_pred=knn.predict(X_test)\r\n",
        "accuracy_knn=accuracy_score(y_test,knn_pred)*100\r\n",
        "print('accuracy_score score     : ',accuracy_score(y_test,knn_pred)*100,'%')\r\n",
        "print('mean_squared_error score : ',mean_squared_error(y_test,knn_pred)*100,'%')"
      ],
      "execution_count": 43,
      "outputs": [
        {
          "output_type": "stream",
          "text": [
            "accuracy_score score     :  85.24590163934425 %\n",
            "mean_squared_error score :  14.754098360655737 %\n"
          ],
          "name": "stdout"
        }
      ]
    },
    {
      "cell_type": "code",
      "metadata": {
        "colab": {
          "base_uri": "https://localhost:8080/"
        },
        "id": "p4nw4csMvXVu",
        "outputId": "facc9aec-ca2e-475e-fa12-61d851a26505"
      },
      "source": [
        "print(\"Accuracy on training set: {:.3f}\".format(knn.score(X_train, y_train)))\r\n",
        "print(\"Accuracy on test set: {:.3f}\".format(knn.score(X_test, y_test)))"
      ],
      "execution_count": 44,
      "outputs": [
        {
          "output_type": "stream",
          "text": [
            "Accuracy on training set: 0.822\n",
            "Accuracy on test set: 0.852\n"
          ],
          "name": "stdout"
        }
      ]
    },
    {
      "cell_type": "markdown",
      "metadata": {
        "id": "-1ttalMLvjPj"
      },
      "source": [
        "# Lgb"
      ]
    },
    {
      "cell_type": "code",
      "metadata": {
        "colab": {
          "base_uri": "https://localhost:8080/"
        },
        "id": "vmrJKIWHviSo",
        "outputId": "d46b841e-31f3-410b-ddf9-1b6b6428edd0"
      },
      "source": [
        "from lightgbm import LGBMClassifier\r\n",
        "\r\n",
        "lg=LGBMClassifier(boosting_type='gbdt',n_estimators=5000,learning_rate=0.05,objective='binary',metric='accuracy',is_unbalance=True,\r\n",
        "                 colsample_bytree=0.7,reg_lambda=3,reg_alpha=3,random_state=500,n_jobs=-1,num_leaves=35)\r\n",
        "lg.fit(X_train,y_train)\r\n",
        "ypred = lg.predict(X_test)\r\n",
        "print('===============================================')\r\n",
        "print('Accuracy score : ',accuracy_score(y_test,ypred)*100)\r\n",
        "print('===============================================')"
      ],
      "execution_count": 47,
      "outputs": [
        {
          "output_type": "stream",
          "text": [
            "===============================================\n",
            "Accuracy score :  85.24590163934425\n",
            "===============================================\n"
          ],
          "name": "stdout"
        }
      ]
    },
    {
      "cell_type": "markdown",
      "metadata": {
        "id": "Kg8qaE5Sv7z-"
      },
      "source": [
        "# SVM"
      ]
    },
    {
      "cell_type": "code",
      "metadata": {
        "colab": {
          "base_uri": "https://localhost:8080/"
        },
        "id": "yyHjmsUcv7P3",
        "outputId": "772ae107-ab3f-4270-dc17-ef549a06a14c"
      },
      "source": [
        "from sklearn.svm import SVC\r\n",
        "model = SVC(C=2.0,kernel='rbf',gamma='auto').fit(X_train,y_train)\r\n",
        "Y_predict = model.predict(X_test)\r\n",
        "print('Accuracy score : {}%'.format(accuracy_score(y_test,Y_predict)*100))"
      ],
      "execution_count": 48,
      "outputs": [
        {
          "output_type": "stream",
          "text": [
            "Accuracy score : 80.32786885245902%\n"
          ],
          "name": "stdout"
        }
      ]
    }
  ]
}